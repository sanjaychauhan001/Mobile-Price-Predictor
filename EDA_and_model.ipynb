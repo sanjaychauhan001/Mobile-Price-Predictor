{
 "cells": [
  {
   "cell_type": "code",
   "execution_count": 431,
   "metadata": {},
   "outputs": [],
   "source": [
    "import pandas as pd \n",
    "import numpy as np \n",
    "import matplotlib.pyplot as plt \n",
    "import seaborn as sns \n",
    "import plotly.express as px"
   ]
  },
  {
   "cell_type": "code",
   "execution_count": 467,
   "metadata": {},
   "outputs": [
    {
     "data": {
      "text/html": [
       "<div>\n",
       "<style scoped>\n",
       "    .dataframe tbody tr th:only-of-type {\n",
       "        vertical-align: middle;\n",
       "    }\n",
       "\n",
       "    .dataframe tbody tr th {\n",
       "        vertical-align: top;\n",
       "    }\n",
       "\n",
       "    .dataframe thead th {\n",
       "        text-align: right;\n",
       "    }\n",
       "</style>\n",
       "<table border=\"1\" class=\"dataframe\">\n",
       "  <thead>\n",
       "    <tr style=\"text-align: right;\">\n",
       "      <th></th>\n",
       "      <th>Unnamed: 0</th>\n",
       "      <th>company</th>\n",
       "      <th>Price</th>\n",
       "      <th>Ram</th>\n",
       "      <th>internal</th>\n",
       "      <th>is_expandable</th>\n",
       "      <th>expandable_upto</th>\n",
       "      <th>display_inch</th>\n",
       "      <th>is_retina_display</th>\n",
       "      <th>display_type</th>\n",
       "      <th>rear_camera</th>\n",
       "      <th>front_camera</th>\n",
       "      <th>Battery</th>\n",
       "      <th>Processor_type</th>\n",
       "    </tr>\n",
       "  </thead>\n",
       "  <tbody>\n",
       "    <tr>\n",
       "      <th>0</th>\n",
       "      <td>0</td>\n",
       "      <td>apple</td>\n",
       "      <td>57999.0</td>\n",
       "      <td>4</td>\n",
       "      <td>128</td>\n",
       "      <td>0</td>\n",
       "      <td>256</td>\n",
       "      <td>6.10</td>\n",
       "      <td>1</td>\n",
       "      <td>XDR</td>\n",
       "      <td>12</td>\n",
       "      <td>12.0</td>\n",
       "      <td>3000</td>\n",
       "      <td>Bionic Chip</td>\n",
       "    </tr>\n",
       "    <tr>\n",
       "      <th>1</th>\n",
       "      <td>1</td>\n",
       "      <td>apple</td>\n",
       "      <td>58999.0</td>\n",
       "      <td>4</td>\n",
       "      <td>128</td>\n",
       "      <td>0</td>\n",
       "      <td>256</td>\n",
       "      <td>6.10</td>\n",
       "      <td>1</td>\n",
       "      <td>XDR</td>\n",
       "      <td>12</td>\n",
       "      <td>12.0</td>\n",
       "      <td>3000</td>\n",
       "      <td>Bionic Chip</td>\n",
       "    </tr>\n",
       "    <tr>\n",
       "      <th>2</th>\n",
       "      <td>4</td>\n",
       "      <td>apple</td>\n",
       "      <td>65999.0</td>\n",
       "      <td>4</td>\n",
       "      <td>128</td>\n",
       "      <td>0</td>\n",
       "      <td>256</td>\n",
       "      <td>6.70</td>\n",
       "      <td>1</td>\n",
       "      <td>XDR</td>\n",
       "      <td>12</td>\n",
       "      <td>12.0</td>\n",
       "      <td>3000</td>\n",
       "      <td>Bionic Chip</td>\n",
       "    </tr>\n",
       "    <tr>\n",
       "      <th>3</th>\n",
       "      <td>6</td>\n",
       "      <td>apple</td>\n",
       "      <td>64999.0</td>\n",
       "      <td>4</td>\n",
       "      <td>128</td>\n",
       "      <td>0</td>\n",
       "      <td>256</td>\n",
       "      <td>6.70</td>\n",
       "      <td>1</td>\n",
       "      <td>XDR</td>\n",
       "      <td>12</td>\n",
       "      <td>12.0</td>\n",
       "      <td>3000</td>\n",
       "      <td>Bionic Chip</td>\n",
       "    </tr>\n",
       "    <tr>\n",
       "      <th>4</th>\n",
       "      <td>7</td>\n",
       "      <td>apple</td>\n",
       "      <td>77900.0</td>\n",
       "      <td>4</td>\n",
       "      <td>128</td>\n",
       "      <td>0</td>\n",
       "      <td>256</td>\n",
       "      <td>6.10</td>\n",
       "      <td>1</td>\n",
       "      <td>XDR</td>\n",
       "      <td>48</td>\n",
       "      <td>12.0</td>\n",
       "      <td>3000</td>\n",
       "      <td>Bionic Chip</td>\n",
       "    </tr>\n",
       "    <tr>\n",
       "      <th>...</th>\n",
       "      <td>...</td>\n",
       "      <td>...</td>\n",
       "      <td>...</td>\n",
       "      <td>...</td>\n",
       "      <td>...</td>\n",
       "      <td>...</td>\n",
       "      <td>...</td>\n",
       "      <td>...</td>\n",
       "      <td>...</td>\n",
       "      <td>...</td>\n",
       "      <td>...</td>\n",
       "      <td>...</td>\n",
       "      <td>...</td>\n",
       "      <td>...</td>\n",
       "    </tr>\n",
       "    <tr>\n",
       "      <th>1467</th>\n",
       "      <td>2571</td>\n",
       "      <td>vivo</td>\n",
       "      <td>13490.0</td>\n",
       "      <td>4</td>\n",
       "      <td>64</td>\n",
       "      <td>1</td>\n",
       "      <td>256</td>\n",
       "      <td>6.51</td>\n",
       "      <td>0</td>\n",
       "      <td>HD</td>\n",
       "      <td>13</td>\n",
       "      <td>8.0</td>\n",
       "      <td>5000</td>\n",
       "      <td>Mediatek</td>\n",
       "    </tr>\n",
       "    <tr>\n",
       "      <th>1468</th>\n",
       "      <td>2572</td>\n",
       "      <td>vivo</td>\n",
       "      <td>12890.0</td>\n",
       "      <td>4</td>\n",
       "      <td>64</td>\n",
       "      <td>1</td>\n",
       "      <td>256</td>\n",
       "      <td>6.22</td>\n",
       "      <td>0</td>\n",
       "      <td>HD</td>\n",
       "      <td>13</td>\n",
       "      <td>8.0</td>\n",
       "      <td>3260</td>\n",
       "      <td>Mediatek</td>\n",
       "    </tr>\n",
       "    <tr>\n",
       "      <th>1469</th>\n",
       "      <td>2573</td>\n",
       "      <td>vivo</td>\n",
       "      <td>8100.0</td>\n",
       "      <td>2</td>\n",
       "      <td>16</td>\n",
       "      <td>1</td>\n",
       "      <td>256</td>\n",
       "      <td>5.00</td>\n",
       "      <td>0</td>\n",
       "      <td>HD</td>\n",
       "      <td>8</td>\n",
       "      <td>5.0</td>\n",
       "      <td>2500</td>\n",
       "      <td>Qualcomm Sanpdragon</td>\n",
       "    </tr>\n",
       "    <tr>\n",
       "      <th>1470</th>\n",
       "      <td>2576</td>\n",
       "      <td>vivo</td>\n",
       "      <td>17990.0</td>\n",
       "      <td>4</td>\n",
       "      <td>64</td>\n",
       "      <td>1</td>\n",
       "      <td>256</td>\n",
       "      <td>6.35</td>\n",
       "      <td>0</td>\n",
       "      <td>HD</td>\n",
       "      <td>13</td>\n",
       "      <td>16.0</td>\n",
       "      <td>5000</td>\n",
       "      <td>Mediatek</td>\n",
       "    </tr>\n",
       "    <tr>\n",
       "      <th>1471</th>\n",
       "      <td>2578</td>\n",
       "      <td>vivo</td>\n",
       "      <td>17990.0</td>\n",
       "      <td>4</td>\n",
       "      <td>64</td>\n",
       "      <td>1</td>\n",
       "      <td>256</td>\n",
       "      <td>6.53</td>\n",
       "      <td>0</td>\n",
       "      <td>HD</td>\n",
       "      <td>16</td>\n",
       "      <td>32.0</td>\n",
       "      <td>5000</td>\n",
       "      <td>Qualcomm Sanpdragon</td>\n",
       "    </tr>\n",
       "  </tbody>\n",
       "</table>\n",
       "<p>1472 rows × 14 columns</p>\n",
       "</div>"
      ],
      "text/plain": [
       "      Unnamed: 0 company    Price  Ram  internal  is_expandable  \\\n",
       "0              0   apple  57999.0    4       128              0   \n",
       "1              1   apple  58999.0    4       128              0   \n",
       "2              4   apple  65999.0    4       128              0   \n",
       "3              6   apple  64999.0    4       128              0   \n",
       "4              7   apple  77900.0    4       128              0   \n",
       "...          ...     ...      ...  ...       ...            ...   \n",
       "1467        2571    vivo  13490.0    4        64              1   \n",
       "1468        2572    vivo  12890.0    4        64              1   \n",
       "1469        2573    vivo   8100.0    2        16              1   \n",
       "1470        2576    vivo  17990.0    4        64              1   \n",
       "1471        2578    vivo  17990.0    4        64              1   \n",
       "\n",
       "      expandable_upto  display_inch  is_retina_display display_type  \\\n",
       "0                 256          6.10                  1          XDR   \n",
       "1                 256          6.10                  1          XDR   \n",
       "2                 256          6.70                  1          XDR   \n",
       "3                 256          6.70                  1          XDR   \n",
       "4                 256          6.10                  1          XDR   \n",
       "...               ...           ...                ...          ...   \n",
       "1467              256          6.51                  0           HD   \n",
       "1468              256          6.22                  0           HD   \n",
       "1469              256          5.00                  0           HD   \n",
       "1470              256          6.35                  0           HD   \n",
       "1471              256          6.53                  0           HD   \n",
       "\n",
       "     rear_camera  front_camera  Battery       Processor_type  \n",
       "0             12          12.0     3000          Bionic Chip  \n",
       "1             12          12.0     3000          Bionic Chip  \n",
       "2             12          12.0     3000          Bionic Chip  \n",
       "3             12          12.0     3000          Bionic Chip  \n",
       "4             48          12.0     3000          Bionic Chip  \n",
       "...          ...           ...      ...                  ...  \n",
       "1467          13           8.0     5000             Mediatek  \n",
       "1468          13           8.0     3260             Mediatek  \n",
       "1469           8           5.0     2500  Qualcomm Sanpdragon  \n",
       "1470          13          16.0     5000             Mediatek  \n",
       "1471          16          32.0     5000  Qualcomm Sanpdragon  \n",
       "\n",
       "[1472 rows x 14 columns]"
      ]
     },
     "execution_count": 467,
     "metadata": {},
     "output_type": "execute_result"
    }
   ],
   "source": [
    "df = pd.read_csv('cleaned.csv')\n",
    "df"
   ]
  },
  {
   "cell_type": "code",
   "execution_count": 468,
   "metadata": {},
   "outputs": [],
   "source": [
    "df.drop(columns=['Unnamed: 0'],inplace=True)"
   ]
  },
  {
   "cell_type": "code",
   "execution_count": 469,
   "metadata": {},
   "outputs": [
    {
     "data": {
      "text/plain": [
       "(1472, 13)"
      ]
     },
     "execution_count": 469,
     "metadata": {},
     "output_type": "execute_result"
    }
   ],
   "source": [
    "df.shape"
   ]
  },
  {
   "cell_type": "code",
   "execution_count": 470,
   "metadata": {},
   "outputs": [
    {
     "data": {
      "text/plain": [
       "company              0\n",
       "Price                0\n",
       "Ram                  0\n",
       "internal             0\n",
       "is_expandable        0\n",
       "expandable_upto      0\n",
       "display_inch         0\n",
       "is_retina_display    0\n",
       "display_type         0\n",
       "rear_camera          0\n",
       "front_camera         0\n",
       "Battery              0\n",
       "Processor_type       0\n",
       "dtype: int64"
      ]
     },
     "execution_count": 470,
     "metadata": {},
     "output_type": "execute_result"
    }
   ],
   "source": [
    "df.isna().sum()"
   ]
  },
  {
   "cell_type": "code",
   "execution_count": 471,
   "metadata": {},
   "outputs": [
    {
     "data": {
      "text/plain": [
       "37"
      ]
     },
     "execution_count": 471,
     "metadata": {},
     "output_type": "execute_result"
    }
   ],
   "source": [
    "df.duplicated().sum()"
   ]
  },
  {
   "cell_type": "code",
   "execution_count": 472,
   "metadata": {},
   "outputs": [],
   "source": [
    "df.drop_duplicates(inplace=True)"
   ]
  },
  {
   "cell_type": "code",
   "execution_count": 473,
   "metadata": {},
   "outputs": [
    {
     "data": {
      "text/plain": [
       "0"
      ]
     },
     "execution_count": 473,
     "metadata": {},
     "output_type": "execute_result"
    }
   ],
   "source": [
    "df.duplicated().sum()"
   ]
  },
  {
   "cell_type": "code",
   "execution_count": 474,
   "metadata": {},
   "outputs": [
    {
     "data": {
      "text/plain": [
       "<Axes: xlabel='Price', ylabel='Count'>"
      ]
     },
     "execution_count": 474,
     "metadata": {},
     "output_type": "execute_result"
    },
    {
     "data": {
      "image/png": "[encoded data removed]",
      "text/plain": [
       "<Figure size 640x480 with 1 Axes>"
      ]
     },
     "metadata": {},
     "output_type": "display_data"
    }
   ],
   "source": [
    "sns.histplot(df['Price'])\n",
    "# price column is positivel skewed"
   ]
  },
  {
   "cell_type": "code",
   "execution_count": 475,
   "metadata": {},
   "outputs": [
    {
     "data": {
      "text/html": [
       "<div>\n",
       "<style scoped>\n",
       "    .dataframe tbody tr th:only-of-type {\n",
       "        vertical-align: middle;\n",
       "    }\n",
       "\n",
       "    .dataframe tbody tr th {\n",
       "        vertical-align: top;\n",
       "    }\n",
       "\n",
       "    .dataframe thead th {\n",
       "        text-align: right;\n",
       "    }\n",
       "</style>\n",
       "<table border=\"1\" class=\"dataframe\">\n",
       "  <thead>\n",
       "    <tr style=\"text-align: right;\">\n",
       "      <th></th>\n",
       "      <th>company</th>\n",
       "      <th>Price</th>\n",
       "      <th>Ram</th>\n",
       "      <th>internal</th>\n",
       "      <th>is_expandable</th>\n",
       "      <th>expandable_upto</th>\n",
       "      <th>display_inch</th>\n",
       "      <th>is_retina_display</th>\n",
       "      <th>display_type</th>\n",
       "      <th>rear_camera</th>\n",
       "      <th>front_camera</th>\n",
       "      <th>Battery</th>\n",
       "      <th>Processor_type</th>\n",
       "    </tr>\n",
       "  </thead>\n",
       "  <tbody>\n",
       "    <tr>\n",
       "      <th>0</th>\n",
       "      <td>apple</td>\n",
       "      <td>57999.0</td>\n",
       "      <td>4</td>\n",
       "      <td>128</td>\n",
       "      <td>0</td>\n",
       "      <td>256</td>\n",
       "      <td>6.1</td>\n",
       "      <td>1</td>\n",
       "      <td>XDR</td>\n",
       "      <td>12</td>\n",
       "      <td>12.0</td>\n",
       "      <td>3000</td>\n",
       "      <td>Bionic Chip</td>\n",
       "    </tr>\n",
       "    <tr>\n",
       "      <th>1</th>\n",
       "      <td>apple</td>\n",
       "      <td>58999.0</td>\n",
       "      <td>4</td>\n",
       "      <td>128</td>\n",
       "      <td>0</td>\n",
       "      <td>256</td>\n",
       "      <td>6.1</td>\n",
       "      <td>1</td>\n",
       "      <td>XDR</td>\n",
       "      <td>12</td>\n",
       "      <td>12.0</td>\n",
       "      <td>3000</td>\n",
       "      <td>Bionic Chip</td>\n",
       "    </tr>\n",
       "    <tr>\n",
       "      <th>2</th>\n",
       "      <td>apple</td>\n",
       "      <td>65999.0</td>\n",
       "      <td>4</td>\n",
       "      <td>128</td>\n",
       "      <td>0</td>\n",
       "      <td>256</td>\n",
       "      <td>6.7</td>\n",
       "      <td>1</td>\n",
       "      <td>XDR</td>\n",
       "      <td>12</td>\n",
       "      <td>12.0</td>\n",
       "      <td>3000</td>\n",
       "      <td>Bionic Chip</td>\n",
       "    </tr>\n",
       "    <tr>\n",
       "      <th>3</th>\n",
       "      <td>apple</td>\n",
       "      <td>64999.0</td>\n",
       "      <td>4</td>\n",
       "      <td>128</td>\n",
       "      <td>0</td>\n",
       "      <td>256</td>\n",
       "      <td>6.7</td>\n",
       "      <td>1</td>\n",
       "      <td>XDR</td>\n",
       "      <td>12</td>\n",
       "      <td>12.0</td>\n",
       "      <td>3000</td>\n",
       "      <td>Bionic Chip</td>\n",
       "    </tr>\n",
       "    <tr>\n",
       "      <th>4</th>\n",
       "      <td>apple</td>\n",
       "      <td>77900.0</td>\n",
       "      <td>4</td>\n",
       "      <td>128</td>\n",
       "      <td>0</td>\n",
       "      <td>256</td>\n",
       "      <td>6.1</td>\n",
       "      <td>1</td>\n",
       "      <td>XDR</td>\n",
       "      <td>48</td>\n",
       "      <td>12.0</td>\n",
       "      <td>3000</td>\n",
       "      <td>Bionic Chip</td>\n",
       "    </tr>\n",
       "  </tbody>\n",
       "</table>\n",
       "</div>"
      ],
      "text/plain": [
       "  company    Price  Ram  internal  is_expandable  expandable_upto  \\\n",
       "0   apple  57999.0    4       128              0              256   \n",
       "1   apple  58999.0    4       128              0              256   \n",
       "2   apple  65999.0    4       128              0              256   \n",
       "3   apple  64999.0    4       128              0              256   \n",
       "4   apple  77900.0    4       128              0              256   \n",
       "\n",
       "   display_inch  is_retina_display display_type rear_camera  front_camera  \\\n",
       "0           6.1                  1          XDR          12          12.0   \n",
       "1           6.1                  1          XDR          12          12.0   \n",
       "2           6.7                  1          XDR          12          12.0   \n",
       "3           6.7                  1          XDR          12          12.0   \n",
       "4           6.1                  1          XDR          48          12.0   \n",
       "\n",
       "   Battery Processor_type  \n",
       "0     3000    Bionic Chip  \n",
       "1     3000    Bionic Chip  \n",
       "2     3000    Bionic Chip  \n",
       "3     3000    Bionic Chip  \n",
       "4     3000    Bionic Chip  "
      ]
     },
     "execution_count": 475,
     "metadata": {},
     "output_type": "execute_result"
    }
   ],
   "source": [
    "df.head()"
   ]
  },
  {
   "cell_type": "code",
   "execution_count": 476,
   "metadata": {},
   "outputs": [
    {
     "data": {
      "text/html": [
       "<div>\n",
       "<style scoped>\n",
       "    .dataframe tbody tr th:only-of-type {\n",
       "        vertical-align: middle;\n",
       "    }\n",
       "\n",
       "    .dataframe tbody tr th {\n",
       "        vertical-align: top;\n",
       "    }\n",
       "\n",
       "    .dataframe thead th {\n",
       "        text-align: right;\n",
       "    }\n",
       "</style>\n",
       "<table border=\"1\" class=\"dataframe\">\n",
       "  <thead>\n",
       "    <tr style=\"text-align: right;\">\n",
       "      <th></th>\n",
       "      <th>company</th>\n",
       "      <th>Price</th>\n",
       "      <th>Ram</th>\n",
       "      <th>internal</th>\n",
       "      <th>is_expandable</th>\n",
       "      <th>expandable_upto</th>\n",
       "      <th>display_inch</th>\n",
       "      <th>is_retina_display</th>\n",
       "      <th>display_type</th>\n",
       "      <th>rear_camera</th>\n",
       "      <th>front_camera</th>\n",
       "      <th>Battery</th>\n",
       "      <th>Processor_type</th>\n",
       "    </tr>\n",
       "  </thead>\n",
       "  <tbody>\n",
       "    <tr>\n",
       "      <th>175</th>\n",
       "      <td>infinix</td>\n",
       "      <td>7499.0</td>\n",
       "      <td>4</td>\n",
       "      <td>64</td>\n",
       "      <td>1</td>\n",
       "      <td>256</td>\n",
       "      <td>6.82</td>\n",
       "      <td>0</td>\n",
       "      <td>HD</td>\n",
       "      <td>13Mp</td>\n",
       "      <td>8.0</td>\n",
       "      <td>6000</td>\n",
       "      <td>Mediatek</td>\n",
       "    </tr>\n",
       "  </tbody>\n",
       "</table>\n",
       "</div>"
      ],
      "text/plain": [
       "     company   Price  Ram  internal  is_expandable  expandable_upto  \\\n",
       "175  infinix  7499.0    4        64              1              256   \n",
       "\n",
       "     display_inch  is_retina_display display_type rear_camera  front_camera  \\\n",
       "175          6.82                  0           HD        13Mp           8.0   \n",
       "\n",
       "     Battery Processor_type  \n",
       "175     6000       Mediatek  "
      ]
     },
     "execution_count": 476,
     "metadata": {},
     "output_type": "execute_result"
    }
   ],
   "source": [
    "df[df['rear_camera'] == '13Mp']"
   ]
  },
  {
   "cell_type": "code",
   "execution_count": 477,
   "metadata": {},
   "outputs": [],
   "source": [
    "df.drop(index=[175],inplace=True)"
   ]
  },
  {
   "cell_type": "code",
   "execution_count": 478,
   "metadata": {},
   "outputs": [
    {
     "data": {
      "text/html": [
       "<div>\n",
       "<style scoped>\n",
       "    .dataframe tbody tr th:only-of-type {\n",
       "        vertical-align: middle;\n",
       "    }\n",
       "\n",
       "    .dataframe tbody tr th {\n",
       "        vertical-align: top;\n",
       "    }\n",
       "\n",
       "    .dataframe thead th {\n",
       "        text-align: right;\n",
       "    }\n",
       "</style>\n",
       "<table border=\"1\" class=\"dataframe\">\n",
       "  <thead>\n",
       "    <tr style=\"text-align: right;\">\n",
       "      <th></th>\n",
       "      <th>company</th>\n",
       "      <th>Price</th>\n",
       "      <th>Ram</th>\n",
       "      <th>internal</th>\n",
       "      <th>is_expandable</th>\n",
       "      <th>expandable_upto</th>\n",
       "      <th>display_inch</th>\n",
       "      <th>is_retina_display</th>\n",
       "      <th>display_type</th>\n",
       "      <th>rear_camera</th>\n",
       "      <th>front_camera</th>\n",
       "      <th>Battery</th>\n",
       "      <th>Processor_type</th>\n",
       "    </tr>\n",
       "  </thead>\n",
       "  <tbody>\n",
       "    <tr>\n",
       "      <th>385</th>\n",
       "      <td>oppo</td>\n",
       "      <td>19990.0</td>\n",
       "      <td>8</td>\n",
       "      <td>128</td>\n",
       "      <td>1</td>\n",
       "      <td>1024</td>\n",
       "      <td>6.72</td>\n",
       "      <td>0</td>\n",
       "      <td>HD</td>\n",
       "      <td>Rear</td>\n",
       "      <td>8.0</td>\n",
       "      <td>5000</td>\n",
       "      <td>Mediatek</td>\n",
       "    </tr>\n",
       "  </tbody>\n",
       "</table>\n",
       "</div>"
      ],
      "text/plain": [
       "    company    Price  Ram  internal  is_expandable  expandable_upto  \\\n",
       "385    oppo  19990.0    8       128              1             1024   \n",
       "\n",
       "     display_inch  is_retina_display display_type rear_camera  front_camera  \\\n",
       "385          6.72                  0           HD        Rear           8.0   \n",
       "\n",
       "     Battery Processor_type  \n",
       "385     5000       Mediatek  "
      ]
     },
     "execution_count": 478,
     "metadata": {},
     "output_type": "execute_result"
    }
   ],
   "source": [
    "df[df['rear_camera'] == 'Rear']"
   ]
  },
  {
   "cell_type": "code",
   "execution_count": 479,
   "metadata": {},
   "outputs": [],
   "source": [
    "df.drop(index=[385],inplace=True)"
   ]
  },
  {
   "cell_type": "code",
   "execution_count": 480,
   "metadata": {},
   "outputs": [],
   "source": [
    "df['rear_camera'] = df['rear_camera'].astype('float')"
   ]
  },
  {
   "cell_type": "code",
   "execution_count": 481,
   "metadata": {},
   "outputs": [
    {
     "name": "stdout",
     "output_type": "stream",
     "text": [
      "<class 'pandas.core.frame.DataFrame'>\n",
      "Index: 1433 entries, 0 to 1471\n",
      "Data columns (total 13 columns):\n",
      " #   Column             Non-Null Count  Dtype  \n",
      "---  ------             --------------  -----  \n",
      " 0   company            1433 non-null   object \n",
      " 1   Price              1433 non-null   float64\n",
      " 2   Ram                1433 non-null   int64  \n",
      " 3   internal           1433 non-null   int64  \n",
      " 4   is_expandable      1433 non-null   int64  \n",
      " 5   expandable_upto    1433 non-null   int64  \n",
      " 6   display_inch       1433 non-null   float64\n",
      " 7   is_retina_display  1433 non-null   int64  \n",
      " 8   display_type       1433 non-null   object \n",
      " 9   rear_camera        1433 non-null   float64\n",
      " 10  front_camera       1433 non-null   float64\n",
      " 11  Battery            1433 non-null   int64  \n",
      " 12  Processor_type     1433 non-null   object \n",
      "dtypes: float64(4), int64(6), object(3)\n",
      "memory usage: 156.7+ KB\n"
     ]
    }
   ],
   "source": [
    "df.info()"
   ]
  },
  {
   "cell_type": "code",
   "execution_count": 482,
   "metadata": {},
   "outputs": [
    {
     "data": {
      "text/plain": [
       "Price                1.000000\n",
       "Ram                  0.192273\n",
       "internal             0.567895\n",
       "is_expandable       -0.420723\n",
       "expandable_upto     -0.202387\n",
       "display_inch        -0.115433\n",
       "is_retina_display    0.674811\n",
       "rear_camera          0.018769\n",
       "front_camera         0.073892\n",
       "Battery             -0.543770\n",
       "Name: Price, dtype: float64"
      ]
     },
     "execution_count": 482,
     "metadata": {},
     "output_type": "execute_result"
    }
   ],
   "source": [
    "df[['Price','Ram','internal','is_expandable','expandable_upto','display_inch','is_retina_display','rear_camera','front_camera','Battery']].corr()['Price']"
   ]
  },
  {
   "cell_type": "code",
   "execution_count": 483,
   "metadata": {},
   "outputs": [
    {
     "data": {
      "text/plain": [
       "company\n",
       "realme      238\n",
       "redmi       216\n",
       "vivo        204\n",
       "samsung     178\n",
       "oppo        157\n",
       "apple       140\n",
       "infinix     108\n",
       "poco         92\n",
       "motorola     67\n",
       "moto         17\n",
       "google       12\n",
       "razr          1\n",
       "a             1\n",
       "razar         1\n",
       "a70           1\n",
       "Name: count, dtype: int64"
      ]
     },
     "execution_count": 483,
     "metadata": {},
     "output_type": "execute_result"
    }
   ],
   "source": [
    "df['company'].value_counts()"
   ]
  },
  {
   "cell_type": "code",
   "execution_count": 484,
   "metadata": {},
   "outputs": [],
   "source": [
    "df['company'].replace('motorola','moto',inplace=True)"
   ]
  },
  {
   "cell_type": "code",
   "execution_count": 485,
   "metadata": {},
   "outputs": [
    {
     "data": {
      "text/html": [
       "<div>\n",
       "<style scoped>\n",
       "    .dataframe tbody tr th:only-of-type {\n",
       "        vertical-align: middle;\n",
       "    }\n",
       "\n",
       "    .dataframe tbody tr th {\n",
       "        vertical-align: top;\n",
       "    }\n",
       "\n",
       "    .dataframe thead th {\n",
       "        text-align: right;\n",
       "    }\n",
       "</style>\n",
       "<table border=\"1\" class=\"dataframe\">\n",
       "  <thead>\n",
       "    <tr style=\"text-align: right;\">\n",
       "      <th></th>\n",
       "      <th>company</th>\n",
       "      <th>Price</th>\n",
       "      <th>Ram</th>\n",
       "      <th>internal</th>\n",
       "      <th>is_expandable</th>\n",
       "      <th>expandable_upto</th>\n",
       "      <th>display_inch</th>\n",
       "      <th>is_retina_display</th>\n",
       "      <th>display_type</th>\n",
       "      <th>rear_camera</th>\n",
       "      <th>front_camera</th>\n",
       "      <th>Battery</th>\n",
       "      <th>Processor_type</th>\n",
       "    </tr>\n",
       "  </thead>\n",
       "  <tbody>\n",
       "    <tr>\n",
       "      <th>317</th>\n",
       "      <td>razr</td>\n",
       "      <td>65160.0</td>\n",
       "      <td>8</td>\n",
       "      <td>256</td>\n",
       "      <td>0</td>\n",
       "      <td>256</td>\n",
       "      <td>6.9</td>\n",
       "      <td>0</td>\n",
       "      <td>HD</td>\n",
       "      <td>64.0</td>\n",
       "      <td>16.0</td>\n",
       "      <td>4200</td>\n",
       "      <td>other</td>\n",
       "    </tr>\n",
       "    <tr>\n",
       "      <th>318</th>\n",
       "      <td>a</td>\n",
       "      <td>1388.0</td>\n",
       "      <td>1</td>\n",
       "      <td>100</td>\n",
       "      <td>1</td>\n",
       "      <td>32</td>\n",
       "      <td>1.8</td>\n",
       "      <td>0</td>\n",
       "      <td>HD</td>\n",
       "      <td>0.1</td>\n",
       "      <td>16.0</td>\n",
       "      <td>800</td>\n",
       "      <td>other</td>\n",
       "    </tr>\n",
       "    <tr>\n",
       "      <th>319</th>\n",
       "      <td>razar</td>\n",
       "      <td>65160.0</td>\n",
       "      <td>8</td>\n",
       "      <td>256</td>\n",
       "      <td>0</td>\n",
       "      <td>256</td>\n",
       "      <td>6.9</td>\n",
       "      <td>0</td>\n",
       "      <td>HD</td>\n",
       "      <td>64.0</td>\n",
       "      <td>16.0</td>\n",
       "      <td>4200</td>\n",
       "      <td>other</td>\n",
       "    </tr>\n",
       "    <tr>\n",
       "      <th>362</th>\n",
       "      <td>a70</td>\n",
       "      <td>2099.0</td>\n",
       "      <td>4</td>\n",
       "      <td>4</td>\n",
       "      <td>0</td>\n",
       "      <td>256</td>\n",
       "      <td>2.4</td>\n",
       "      <td>0</td>\n",
       "      <td>HD</td>\n",
       "      <td>0.3</td>\n",
       "      <td>16.0</td>\n",
       "      <td>1750</td>\n",
       "      <td>other</td>\n",
       "    </tr>\n",
       "  </tbody>\n",
       "</table>\n",
       "</div>"
      ],
      "text/plain": [
       "    company    Price  Ram  internal  is_expandable  expandable_upto  \\\n",
       "317    razr  65160.0    8       256              0              256   \n",
       "318       a   1388.0    1       100              1               32   \n",
       "319   razar  65160.0    8       256              0              256   \n",
       "362     a70   2099.0    4         4              0              256   \n",
       "\n",
       "     display_inch  is_retina_display display_type  rear_camera  front_camera  \\\n",
       "317           6.9                  0           HD         64.0          16.0   \n",
       "318           1.8                  0           HD          0.1          16.0   \n",
       "319           6.9                  0           HD         64.0          16.0   \n",
       "362           2.4                  0           HD          0.3          16.0   \n",
       "\n",
       "     Battery Processor_type  \n",
       "317     4200          other  \n",
       "318      800          other  \n",
       "319     4200          other  \n",
       "362     1750          other  "
      ]
     },
     "execution_count": 485,
     "metadata": {},
     "output_type": "execute_result"
    }
   ],
   "source": [
    "df[(df['company'] == 'a') | (df['company'] == 'razar') | (df['company'] == 'razr') | (df['company'] == 'a70')]"
   ]
  },
  {
   "cell_type": "code",
   "execution_count": 486,
   "metadata": {},
   "outputs": [],
   "source": [
    "df.drop(index=[317,318,319,362],inplace=True)"
   ]
  },
  {
   "cell_type": "code",
   "execution_count": 487,
   "metadata": {},
   "outputs": [
    {
     "data": {
      "text/plain": [
       "<Axes: xlabel='company'>"
      ]
     },
     "execution_count": 487,
     "metadata": {},
     "output_type": "execute_result"
    },
    {
     "data": {
      "image/png": "[encoded data removed]",
      "text/plain": [
       "<Figure size 640x480 with 1 Axes>"
      ]
     },
     "metadata": {},
     "output_type": "display_data"
    }
   ],
   "source": [
    "df['company'].value_counts().plot(kind='bar')"
   ]
  },
  {
   "cell_type": "code",
   "execution_count": 488,
   "metadata": {},
   "outputs": [
    {
     "data": {
      "image/png": "[encoded data removed]",
      "text/plain": [
       "<Figure size 640x480 with 1 Axes>"
      ]
     },
     "metadata": {},
     "output_type": "display_data"
    }
   ],
   "source": [
    "sns.barplot(x=df.groupby('company')['Price'].mean().index,\n",
    "            y=df.groupby('company')['Price'].mean().values)\n",
    "plt.xticks(rotation='vertical')\n",
    "plt.show()\n",
    "# average price of apple google and samsung is higher than the others it shows company name is plays cruicial role in price"
   ]
  },
  {
   "cell_type": "code",
   "execution_count": 489,
   "metadata": {},
   "outputs": [
    {
     "data": {
      "text/plain": [
       "<Axes: xlabel='Ram', ylabel='Price'>"
      ]
     },
     "execution_count": 489,
     "metadata": {},
     "output_type": "execute_result"
    },
    {
     "data": {
      "image/png": "[encoded data removed]",
      "text/plain": [
       "<Figure size 640x480 with 1 Axes>"
      ]
     },
     "metadata": {},
     "output_type": "display_data"
    }
   ],
   "source": [
    "sns.scatterplot(data=df, x='Ram', y='Price')"
   ]
  },
  {
   "cell_type": "code",
   "execution_count": 490,
   "metadata": {},
   "outputs": [
    {
     "data": {
      "image/png": "[encoded data removed]",
      "text/plain": [
       "<Figure size 640x480 with 1 Axes>"
      ]
     },
     "metadata": {},
     "output_type": "display_data"
    }
   ],
   "source": [
    "sns.barplot(x=df.groupby('Ram')['Price'].mean().index,\n",
    "            y=df.groupby('Ram')['Price'].mean().values)\n",
    "plt.xticks(rotation='vertical')\n",
    "plt.show()\n",
    "# the average price 12 gb ram are higher tha the others so we can conclude that ram effect the model"
   ]
  },
  {
   "cell_type": "code",
   "execution_count": 491,
   "metadata": {},
   "outputs": [
    {
     "data": {
      "text/plain": [
       "<Axes: xlabel='internal', ylabel='Price'>"
      ]
     },
     "execution_count": 491,
     "metadata": {},
     "output_type": "execute_result"
    },
    {
     "data": {
      "image/png": "[encoded data removed]",
      "text/plain": [
       "<Figure size 640x480 with 1 Axes>"
      ]
     },
     "metadata": {},
     "output_type": "display_data"
    }
   ],
   "source": [
    "sns.scatterplot(data=df, x='internal', y='Price')"
   ]
  },
  {
   "cell_type": "code",
   "execution_count": 492,
   "metadata": {},
   "outputs": [],
   "source": [
    "temp = df[df['internal'] == 1]\n",
    "x = temp['internal'].replace(1,1024).values"
   ]
  },
  {
   "cell_type": "code",
   "execution_count": 493,
   "metadata": {},
   "outputs": [],
   "source": [
    "df.loc[temp.index,temp.columns[3]] = x"
   ]
  },
  {
   "cell_type": "code",
   "execution_count": 494,
   "metadata": {},
   "outputs": [
    {
     "data": {
      "image/png": "[encoded data removed]",
      "text/plain": [
       "<Figure size 640x480 with 1 Axes>"
      ]
     },
     "metadata": {},
     "output_type": "display_data"
    }
   ],
   "source": [
    "sns.barplot(x=df.groupby('internal')['Price'].mean().index,\n",
    "            y=df.groupby('internal')['Price'].mean().values)\n",
    "plt.xticks(rotation='vertical')\n",
    "plt.show()\n",
    "# as internal storage is increasing the avg price is also increasing"
   ]
  },
  {
   "cell_type": "code",
   "execution_count": 495,
   "metadata": {},
   "outputs": [
    {
     "data": {
      "text/plain": [
       "is_expandable\n",
       "1    786\n",
       "0    643\n",
       "Name: count, dtype: int64"
      ]
     },
     "execution_count": 495,
     "metadata": {},
     "output_type": "execute_result"
    }
   ],
   "source": [
    "df['is_expandable'].value_counts()"
   ]
  },
  {
   "cell_type": "code",
   "execution_count": 496,
   "metadata": {},
   "outputs": [
    {
     "data": {
      "image/png": "[encoded data removed]",
      "text/plain": [
       "<Figure size 640x480 with 1 Axes>"
      ]
     },
     "metadata": {},
     "output_type": "display_data"
    }
   ],
   "source": [
    "sns.barplot(x=df.groupby('is_expandable')['Price'].mean().index,\n",
    "            y=df.groupby('is_expandable')['Price'].mean().values)\n",
    "plt.xticks(rotation='vertical')\n",
    "plt.show()\n",
    "# if the phone has a expandable memory than the price are less compared to those phone who has not expandable memory"
   ]
  },
  {
   "cell_type": "code",
   "execution_count": 497,
   "metadata": {},
   "outputs": [
    {
     "data": {
      "text/plain": [
       "<Axes: xlabel='display_inch', ylabel='Price'>"
      ]
     },
     "execution_count": 497,
     "metadata": {},
     "output_type": "execute_result"
    },
    {
     "data": {
      "image/png": "[encoded data removed]",
      "text/plain": [
       "<Figure size 640x480 with 1 Axes>"
      ]
     },
     "metadata": {},
     "output_type": "display_data"
    }
   ],
   "source": [
    "sns.scatterplot(data=df, x='display_inch',y='Price')"
   ]
  },
  {
   "cell_type": "code",
   "execution_count": 498,
   "metadata": {},
   "outputs": [],
   "source": [
    "df = df[df['display_inch'] != 16.51]"
   ]
  },
  {
   "cell_type": "code",
   "execution_count": 499,
   "metadata": {},
   "outputs": [
    {
     "data": {
      "text/plain": [
       "is_retina_display\n",
       "0    1296\n",
       "1     132\n",
       "Name: count, dtype: int64"
      ]
     },
     "execution_count": 499,
     "metadata": {},
     "output_type": "execute_result"
    }
   ],
   "source": [
    "df['is_retina_display'].value_counts()"
   ]
  },
  {
   "cell_type": "code",
   "execution_count": 500,
   "metadata": {},
   "outputs": [
    {
     "data": {
      "image/png": "[encoded data removed]",
      "text/plain": [
       "<Figure size 640x480 with 1 Axes>"
      ]
     },
     "metadata": {},
     "output_type": "display_data"
    }
   ],
   "source": [
    "sns.barplot(x=df.groupby('is_retina_display')['Price'].mean().index,\n",
    "            y=df.groupby('is_retina_display')['Price'].mean().values)\n",
    "plt.xticks(rotation='vertical')\n",
    "plt.show()\n",
    "# retina display is very important while predicting the price"
   ]
  },
  {
   "cell_type": "code",
   "execution_count": 501,
   "metadata": {},
   "outputs": [
    {
     "data": {
      "text/plain": [
       "display_type\n",
       "HD     1360\n",
       "XDR      68\n",
       "Name: count, dtype: int64"
      ]
     },
     "execution_count": 501,
     "metadata": {},
     "output_type": "execute_result"
    }
   ],
   "source": [
    "df['display_type'].value_counts()"
   ]
  },
  {
   "cell_type": "code",
   "execution_count": 502,
   "metadata": {},
   "outputs": [
    {
     "data": {
      "image/png": "[encoded data removed]",
      "text/plain": [
       "<Figure size 640x480 with 1 Axes>"
      ]
     },
     "metadata": {},
     "output_type": "display_data"
    }
   ],
   "source": [
    "sns.barplot(x=df.groupby('display_type')['Price'].mean().index,\n",
    "            y=df.groupby('display_type')['Price'].mean().values)\n",
    "plt.xticks(rotation='vertical')\n",
    "plt.show()\n",
    "# XDR type of display has highers prices"
   ]
  },
  {
   "cell_type": "code",
   "execution_count": 503,
   "metadata": {},
   "outputs": [
    {
     "data": {
      "image/png": "[encoded data removed]",
      "text/plain": [
       "<Figure size 640x480 with 1 Axes>"
      ]
     },
     "metadata": {},
     "output_type": "display_data"
    }
   ],
   "source": [
    "sns.barplot(x=df.groupby('rear_camera')['Price'].mean().index,\n",
    "            y=df.groupby('rear_camera')['Price'].mean().values)\n",
    "plt.xticks(rotation='vertical')\n",
    "plt.show()"
   ]
  },
  {
   "cell_type": "code",
   "execution_count": 504,
   "metadata": {},
   "outputs": [
    {
     "data": {
      "image/png": "[encoded data removed]",
      "text/plain": [
       "<Figure size 640x480 with 1 Axes>"
      ]
     },
     "metadata": {},
     "output_type": "display_data"
    }
   ],
   "source": [
    "sns.barplot(x=df.groupby('front_camera')['Price'].mean().index,\n",
    "            y=df.groupby('front_camera')['Price'].mean().values)\n",
    "plt.xticks(rotation='vertical')\n",
    "plt.show()"
   ]
  },
  {
   "cell_type": "code",
   "execution_count": 505,
   "metadata": {},
   "outputs": [
    {
     "data": {
      "text/plain": [
       "<Axes: xlabel='Battery', ylabel='Price'>"
      ]
     },
     "execution_count": 505,
     "metadata": {},
     "output_type": "execute_result"
    },
    {
     "data": {
      "image/png": "[encoded data removed]",
      "text/plain": [
       "<Figure size 640x480 with 1 Axes>"
      ]
     },
     "metadata": {},
     "output_type": "display_data"
    }
   ],
   "source": [
    "sns.scatterplot(data=df,x='Battery',y='Price')"
   ]
  },
  {
   "cell_type": "code",
   "execution_count": 506,
   "metadata": {},
   "outputs": [
    {
     "data": {
      "image/png": "[encoded data removed]",
      "text/plain": [
       "<Figure size 640x480 with 1 Axes>"
      ]
     },
     "metadata": {},
     "output_type": "display_data"
    }
   ],
   "source": [
    "sns.barplot(x=df.groupby('Processor_type')['Price'].mean().index,\n",
    "            y=df.groupby('Processor_type')['Price'].mean().values)\n",
    "plt.xticks(rotation='vertical')\n",
    "plt.show()"
   ]
  },
  {
   "cell_type": "code",
   "execution_count": null,
   "metadata": {},
   "outputs": [],
   "source": [
    "df1 = pd.read_csv(\"C:\\\\Users\\\\sanjay\\\\Documents\\\\All working files\\\\projects\\\\mobile price predictor\\\\all_phones_data.csv\")\n",
    "df1.head()"
   ]
  },
  {
   "cell_type": "markdown",
   "metadata": {},
   "source": [
    "### Model Fitting"
   ]
  },
  {
   "cell_type": "code",
   "execution_count": 203,
   "metadata": {},
   "outputs": [],
   "source": [
    "from sklearn.compose import ColumnTransformer\n",
    "from sklearn.preprocessing import PolynomialFeatures,StandardScaler\n",
    "from sklearn.pipeline import Pipeline\n",
    "from sklearn.linear_model import LinearRegression\n",
    "from sklearn.neighbors import KNeighborsRegressor\n",
    "from sklearn.tree import DecisionTreeRegressor\n",
    "from sklearn.preprocessing import OneHotEncoder\n",
    "from sklearn.metrics import r2_score,mean_squared_error\n",
    "from sklearn.model_selection import train_test_split,cross_val_score,KFold"
   ]
  },
  {
   "cell_type": "code",
   "execution_count": 89,
   "metadata": {},
   "outputs": [
    {
     "data": {
      "text/plain": [
       "array(['apple', 'google', 'infinix', 'moto', 'oppo', 'poco', 'realme',\n",
       "       'redmi', 'samsung', 'vivo'], dtype=object)"
      ]
     },
     "execution_count": 89,
     "metadata": {},
     "output_type": "execute_result"
    }
   ],
   "source": [
    "df['company'].unique()"
   ]
  },
  {
   "cell_type": "code",
   "execution_count": 507,
   "metadata": {},
   "outputs": [
    {
     "name": "stderr",
     "output_type": "stream",
     "text": [
      "C:\\Users\\sanjay\\AppData\\Local\\Temp\\ipykernel_1800\\2380495851.py:1: SettingWithCopyWarning: \n",
      "A value is trying to be set on a copy of a slice from a DataFrame.\n",
      "Try using .loc[row_indexer,col_indexer] = value instead\n",
      "\n",
      "See the caveats in the documentation: https://pandas.pydata.org/pandas-docs/stable/user_guide/indexing.html#returning-a-view-versus-a-copy\n",
      "  df['Price'] = np.log(df['Price'])\n"
     ]
    }
   ],
   "source": [
    "df['Price'] = np.log(df['Price'])"
   ]
  },
  {
   "cell_type": "code",
   "execution_count": 280,
   "metadata": {},
   "outputs": [],
   "source": [
    "X = df.drop(columns=['Price','expandable_upto','display_type'],axis=1)\n",
    "y = df['Price']"
   ]
  },
  {
   "cell_type": "code",
   "execution_count": 131,
   "metadata": {},
   "outputs": [
    {
     "data": {
      "text/plain": [
       "<Axes: xlabel='Price', ylabel='Count'>"
      ]
     },
     "execution_count": 131,
     "metadata": {},
     "output_type": "execute_result"
    },
    {
     "data": {
      "image/png": "[encoded data removed]",
      "text/plain": [
       "<Figure size 640x480 with 1 Axes>"
      ]
     },
     "metadata": {},
     "output_type": "display_data"
    }
   ],
   "source": [
    "sns.histplot(np.log(y))"
   ]
  },
  {
   "cell_type": "code",
   "execution_count": 264,
   "metadata": {},
   "outputs": [
    {
     "data": {
      "text/plain": [
       "Index(['company', 'Ram', 'internal', 'is_expandable', 'display_inch',\n",
       "       'is_retina_display', 'display_type', 'rear_camera', 'front_camera',\n",
       "       'Battery', 'Processor_type'],\n",
       "      dtype='object')"
      ]
     },
     "execution_count": 264,
     "metadata": {},
     "output_type": "execute_result"
    }
   ],
   "source": [
    "X.columns"
   ]
  },
  {
   "cell_type": "code",
   "execution_count": 281,
   "metadata": {},
   "outputs": [],
   "source": [
    "y = np.log(y)"
   ]
  },
  {
   "cell_type": "code",
   "execution_count": 414,
   "metadata": {},
   "outputs": [],
   "source": [
    "X_train, X_test, y_train, y_test = train_test_split(X,y,test_size=0.25,random_state=50)"
   ]
  },
  {
   "cell_type": "code",
   "execution_count": null,
   "metadata": {},
   "outputs": [],
   "source": [
    "df = df.iloc[X.index]"
   ]
  },
  {
   "cell_type": "code",
   "execution_count": null,
   "metadata": {},
   "outputs": [],
   "source": [
    "X['color'] = df['model'].str.strip().str.split(\"(\").str[1].str.split(',').str[0]"
   ]
  },
  {
   "cell_type": "code",
   "execution_count": null,
   "metadata": {},
   "outputs": [],
   "source": [
    "def extract_color(name):\n",
    "    if 'Blue' in name:\n",
    "        return 'Blue'\n",
    "    elif 'Starlight' in name:\n",
    "        return 'Starlight'\n",
    "    elif 'Midnight' in name:\n",
    "        return 'Midnight'\n",
    "    elif 'Purple' in name:\n",
    "        return 'Purple'\n",
    "    elif 'Black' in name:\n",
    "        return 'Black'\n",
    "    elif 'White' in name:\n",
    "        return 'White'\n",
    "    elif 'Gold' in name :\n",
    "        return 'Gold'\n",
    "    elif 'Silver' in name:\n",
    "        return 'Silver'\n",
    "    elif 'Yellow' in name:\n",
    "        return 'Yellow'\n",
    "    elif 'Grey' in name:\n",
    "        return 'Grey'\n",
    "    else:\n",
    "        return 'other'"
   ]
  },
  {
   "cell_type": "code",
   "execution_count": null,
   "metadata": {},
   "outputs": [],
   "source": [
    "X['color'].replace('','red',inplace=True)"
   ]
  },
  {
   "cell_type": "code",
   "execution_count": null,
   "metadata": {},
   "outputs": [],
   "source": [
    "X['color'] = X['color'].fillna('Unknown').apply(extract_color)"
   ]
  },
  {
   "cell_type": "code",
   "execution_count": 415,
   "metadata": {},
   "outputs": [
    {
     "data": {
      "text/html": [
       "<div>\n",
       "<style scoped>\n",
       "    .dataframe tbody tr th:only-of-type {\n",
       "        vertical-align: middle;\n",
       "    }\n",
       "\n",
       "    .dataframe tbody tr th {\n",
       "        vertical-align: top;\n",
       "    }\n",
       "\n",
       "    .dataframe thead th {\n",
       "        text-align: right;\n",
       "    }\n",
       "</style>\n",
       "<table border=\"1\" class=\"dataframe\">\n",
       "  <thead>\n",
       "    <tr style=\"text-align: right;\">\n",
       "      <th></th>\n",
       "      <th>company</th>\n",
       "      <th>Ram</th>\n",
       "      <th>internal</th>\n",
       "      <th>is_expandable</th>\n",
       "      <th>display_inch</th>\n",
       "      <th>is_retina_display</th>\n",
       "      <th>rear_camera</th>\n",
       "      <th>front_camera</th>\n",
       "      <th>Battery</th>\n",
       "      <th>Processor_type</th>\n",
       "      <th>color</th>\n",
       "    </tr>\n",
       "  </thead>\n",
       "  <tbody>\n",
       "    <tr>\n",
       "      <th>0</th>\n",
       "      <td>apple</td>\n",
       "      <td>4</td>\n",
       "      <td>128</td>\n",
       "      <td>0</td>\n",
       "      <td>6.1</td>\n",
       "      <td>1</td>\n",
       "      <td>12.0</td>\n",
       "      <td>12.0</td>\n",
       "      <td>3000</td>\n",
       "      <td>Bionic Chip</td>\n",
       "      <td>Blue</td>\n",
       "    </tr>\n",
       "    <tr>\n",
       "      <th>1</th>\n",
       "      <td>apple</td>\n",
       "      <td>4</td>\n",
       "      <td>128</td>\n",
       "      <td>0</td>\n",
       "      <td>6.1</td>\n",
       "      <td>1</td>\n",
       "      <td>12.0</td>\n",
       "      <td>12.0</td>\n",
       "      <td>3000</td>\n",
       "      <td>Bionic Chip</td>\n",
       "      <td>Starlight</td>\n",
       "    </tr>\n",
       "    <tr>\n",
       "      <th>2</th>\n",
       "      <td>apple</td>\n",
       "      <td>4</td>\n",
       "      <td>128</td>\n",
       "      <td>0</td>\n",
       "      <td>6.7</td>\n",
       "      <td>1</td>\n",
       "      <td>12.0</td>\n",
       "      <td>12.0</td>\n",
       "      <td>3000</td>\n",
       "      <td>Bionic Chip</td>\n",
       "      <td>Midnight</td>\n",
       "    </tr>\n",
       "    <tr>\n",
       "      <th>3</th>\n",
       "      <td>apple</td>\n",
       "      <td>4</td>\n",
       "      <td>128</td>\n",
       "      <td>0</td>\n",
       "      <td>6.7</td>\n",
       "      <td>1</td>\n",
       "      <td>12.0</td>\n",
       "      <td>12.0</td>\n",
       "      <td>3000</td>\n",
       "      <td>Bionic Chip</td>\n",
       "      <td>Purple</td>\n",
       "    </tr>\n",
       "    <tr>\n",
       "      <th>4</th>\n",
       "      <td>apple</td>\n",
       "      <td>4</td>\n",
       "      <td>128</td>\n",
       "      <td>0</td>\n",
       "      <td>6.1</td>\n",
       "      <td>1</td>\n",
       "      <td>48.0</td>\n",
       "      <td>12.0</td>\n",
       "      <td>3000</td>\n",
       "      <td>Bionic Chip</td>\n",
       "      <td>Blue</td>\n",
       "    </tr>\n",
       "  </tbody>\n",
       "</table>\n",
       "</div>"
      ],
      "text/plain": [
       "  company  Ram  internal  is_expandable  display_inch  is_retina_display  \\\n",
       "0   apple    4       128              0           6.1                  1   \n",
       "1   apple    4       128              0           6.1                  1   \n",
       "2   apple    4       128              0           6.7                  1   \n",
       "3   apple    4       128              0           6.7                  1   \n",
       "4   apple    4       128              0           6.1                  1   \n",
       "\n",
       "   rear_camera  front_camera  Battery Processor_type      color  \n",
       "0         12.0          12.0     3000    Bionic Chip       Blue  \n",
       "1         12.0          12.0     3000    Bionic Chip  Starlight  \n",
       "2         12.0          12.0     3000    Bionic Chip   Midnight  \n",
       "3         12.0          12.0     3000    Bionic Chip     Purple  \n",
       "4         48.0          12.0     3000    Bionic Chip       Blue  "
      ]
     },
     "execution_count": 415,
     "metadata": {},
     "output_type": "execute_result"
    }
   ],
   "source": [
    "X.head()"
   ]
  },
  {
   "cell_type": "code",
   "execution_count": 465,
   "metadata": {},
   "outputs": [
    {
     "name": "stdout",
     "output_type": "stream",
     "text": [
      "R2 score 0.8598288569661319\n",
      "RMSE 0.26478682321964286\n"
     ]
    }
   ],
   "source": [
    "step1 = ColumnTransformer(transformers=[\n",
    "    ('tnf1', OneHotEncoder(sparse_output=False,drop='first'),[0,9,10])\n",
    "], remainder='passthrough')\n",
    "\n",
    "step2 = LinearRegression()\n",
    "\n",
    "pipe = Pipeline([\n",
    "    ('step1',step1),\n",
    "    ('step2',step2)\n",
    "])\n",
    "\n",
    "\n",
    "pipe.fit(X, y)\n",
    "y_pred = pipe.predict(X)\n",
    "print('R2 score', r2_score(y,y_pred))\n",
    "print('RMSE', np.sqrt(mean_squared_error(y,y_pred)))\n",
    "\n"
   ]
  },
  {
   "cell_type": "code",
   "execution_count": 60,
   "metadata": {},
   "outputs": [
    {
     "data": {
      "text/plain": [
       "array(['Bionic Chip', 'other', 'Qualcomm Sanpdragon', 'Mediatek',\n",
       "       'Exynos'], dtype=object)"
      ]
     },
     "execution_count": 60,
     "metadata": {},
     "output_type": "execute_result"
    }
   ],
   "source": [
    "df['Processor_type'].unique()"
   ]
  },
  {
   "cell_type": "code",
   "execution_count": 68,
   "metadata": {},
   "outputs": [
    {
     "data": {
      "text/plain": [
       "array(['apple', 'google', 'infinix', 'moto', 'oppo', 'poco', 'realme',\n",
       "       'redmi', 'samsung', 'vivo'], dtype=object)"
      ]
     },
     "execution_count": 68,
     "metadata": {},
     "output_type": "execute_result"
    }
   ],
   "source": [
    "df['company'].unique()"
   ]
  },
  {
   "cell_type": "code",
   "execution_count": 417,
   "metadata": {},
   "outputs": [
    {
     "data": {
      "text/plain": [
       "array(['Blue', 'Starlight', 'Midnight', 'Purple', 'Black', 'other',\n",
       "       'White', 'Yellow', 'Gold', 'Silver', 'Grey'], dtype=object)"
      ]
     },
     "execution_count": 417,
     "metadata": {},
     "output_type": "execute_result"
    }
   ],
   "source": [
    "X['color'].unique()"
   ]
  },
  {
   "cell_type": "code",
   "execution_count": 462,
   "metadata": {},
   "outputs": [
    {
     "data": {
      "text/html": [
       "<div>\n",
       "<style scoped>\n",
       "    .dataframe tbody tr th:only-of-type {\n",
       "        vertical-align: middle;\n",
       "    }\n",
       "\n",
       "    .dataframe tbody tr th {\n",
       "        vertical-align: top;\n",
       "    }\n",
       "\n",
       "    .dataframe thead th {\n",
       "        text-align: right;\n",
       "    }\n",
       "</style>\n",
       "<table border=\"1\" class=\"dataframe\">\n",
       "  <thead>\n",
       "    <tr style=\"text-align: right;\">\n",
       "      <th></th>\n",
       "      <th>company</th>\n",
       "      <th>Ram</th>\n",
       "      <th>internal</th>\n",
       "      <th>is_expandable</th>\n",
       "      <th>display_inch</th>\n",
       "      <th>is_retina_display</th>\n",
       "      <th>rear_camera</th>\n",
       "      <th>front_camera</th>\n",
       "      <th>Battery</th>\n",
       "      <th>Processor_type</th>\n",
       "      <th>color</th>\n",
       "    </tr>\n",
       "  </thead>\n",
       "  <tbody>\n",
       "    <tr>\n",
       "      <th>0</th>\n",
       "      <td>apple</td>\n",
       "      <td>4</td>\n",
       "      <td>128</td>\n",
       "      <td>0</td>\n",
       "      <td>6.10</td>\n",
       "      <td>1</td>\n",
       "      <td>12.0</td>\n",
       "      <td>12.0</td>\n",
       "      <td>3000</td>\n",
       "      <td>Bionic Chip</td>\n",
       "      <td>Blue</td>\n",
       "    </tr>\n",
       "    <tr>\n",
       "      <th>1</th>\n",
       "      <td>apple</td>\n",
       "      <td>4</td>\n",
       "      <td>128</td>\n",
       "      <td>0</td>\n",
       "      <td>6.10</td>\n",
       "      <td>1</td>\n",
       "      <td>12.0</td>\n",
       "      <td>12.0</td>\n",
       "      <td>3000</td>\n",
       "      <td>Bionic Chip</td>\n",
       "      <td>Starlight</td>\n",
       "    </tr>\n",
       "    <tr>\n",
       "      <th>2</th>\n",
       "      <td>apple</td>\n",
       "      <td>4</td>\n",
       "      <td>128</td>\n",
       "      <td>0</td>\n",
       "      <td>6.70</td>\n",
       "      <td>1</td>\n",
       "      <td>12.0</td>\n",
       "      <td>12.0</td>\n",
       "      <td>3000</td>\n",
       "      <td>Bionic Chip</td>\n",
       "      <td>Midnight</td>\n",
       "    </tr>\n",
       "    <tr>\n",
       "      <th>3</th>\n",
       "      <td>apple</td>\n",
       "      <td>4</td>\n",
       "      <td>128</td>\n",
       "      <td>0</td>\n",
       "      <td>6.70</td>\n",
       "      <td>1</td>\n",
       "      <td>12.0</td>\n",
       "      <td>12.0</td>\n",
       "      <td>3000</td>\n",
       "      <td>Bionic Chip</td>\n",
       "      <td>Purple</td>\n",
       "    </tr>\n",
       "    <tr>\n",
       "      <th>4</th>\n",
       "      <td>apple</td>\n",
       "      <td>4</td>\n",
       "      <td>128</td>\n",
       "      <td>0</td>\n",
       "      <td>6.10</td>\n",
       "      <td>1</td>\n",
       "      <td>48.0</td>\n",
       "      <td>12.0</td>\n",
       "      <td>3000</td>\n",
       "      <td>Bionic Chip</td>\n",
       "      <td>Blue</td>\n",
       "    </tr>\n",
       "    <tr>\n",
       "      <th>...</th>\n",
       "      <td>...</td>\n",
       "      <td>...</td>\n",
       "      <td>...</td>\n",
       "      <td>...</td>\n",
       "      <td>...</td>\n",
       "      <td>...</td>\n",
       "      <td>...</td>\n",
       "      <td>...</td>\n",
       "      <td>...</td>\n",
       "      <td>...</td>\n",
       "      <td>...</td>\n",
       "    </tr>\n",
       "    <tr>\n",
       "      <th>1467</th>\n",
       "      <td>vivo</td>\n",
       "      <td>4</td>\n",
       "      <td>64</td>\n",
       "      <td>1</td>\n",
       "      <td>6.51</td>\n",
       "      <td>0</td>\n",
       "      <td>13.0</td>\n",
       "      <td>8.0</td>\n",
       "      <td>5000</td>\n",
       "      <td>Mediatek</td>\n",
       "      <td>White</td>\n",
       "    </tr>\n",
       "    <tr>\n",
       "      <th>1468</th>\n",
       "      <td>vivo</td>\n",
       "      <td>4</td>\n",
       "      <td>64</td>\n",
       "      <td>1</td>\n",
       "      <td>6.22</td>\n",
       "      <td>0</td>\n",
       "      <td>13.0</td>\n",
       "      <td>8.0</td>\n",
       "      <td>3260</td>\n",
       "      <td>Mediatek</td>\n",
       "      <td>Blue</td>\n",
       "    </tr>\n",
       "    <tr>\n",
       "      <th>1469</th>\n",
       "      <td>vivo</td>\n",
       "      <td>2</td>\n",
       "      <td>16</td>\n",
       "      <td>1</td>\n",
       "      <td>5.00</td>\n",
       "      <td>0</td>\n",
       "      <td>8.0</td>\n",
       "      <td>5.0</td>\n",
       "      <td>2500</td>\n",
       "      <td>Qualcomm Sanpdragon</td>\n",
       "      <td>Black</td>\n",
       "    </tr>\n",
       "    <tr>\n",
       "      <th>1470</th>\n",
       "      <td>vivo</td>\n",
       "      <td>4</td>\n",
       "      <td>64</td>\n",
       "      <td>1</td>\n",
       "      <td>6.35</td>\n",
       "      <td>0</td>\n",
       "      <td>13.0</td>\n",
       "      <td>16.0</td>\n",
       "      <td>5000</td>\n",
       "      <td>Mediatek</td>\n",
       "      <td>Black</td>\n",
       "    </tr>\n",
       "    <tr>\n",
       "      <th>1471</th>\n",
       "      <td>vivo</td>\n",
       "      <td>4</td>\n",
       "      <td>64</td>\n",
       "      <td>1</td>\n",
       "      <td>6.53</td>\n",
       "      <td>0</td>\n",
       "      <td>16.0</td>\n",
       "      <td>32.0</td>\n",
       "      <td>5000</td>\n",
       "      <td>Qualcomm Sanpdragon</td>\n",
       "      <td>Silver</td>\n",
       "    </tr>\n",
       "  </tbody>\n",
       "</table>\n",
       "<p>1428 rows × 11 columns</p>\n",
       "</div>"
      ],
      "text/plain": [
       "     company  Ram  internal  is_expandable  display_inch  is_retina_display  \\\n",
       "0      apple    4       128              0          6.10                  1   \n",
       "1      apple    4       128              0          6.10                  1   \n",
       "2      apple    4       128              0          6.70                  1   \n",
       "3      apple    4       128              0          6.70                  1   \n",
       "4      apple    4       128              0          6.10                  1   \n",
       "...      ...  ...       ...            ...           ...                ...   \n",
       "1467    vivo    4        64              1          6.51                  0   \n",
       "1468    vivo    4        64              1          6.22                  0   \n",
       "1469    vivo    2        16              1          5.00                  0   \n",
       "1470    vivo    4        64              1          6.35                  0   \n",
       "1471    vivo    4        64              1          6.53                  0   \n",
       "\n",
       "      rear_camera  front_camera  Battery       Processor_type      color  \n",
       "0            12.0          12.0     3000          Bionic Chip       Blue  \n",
       "1            12.0          12.0     3000          Bionic Chip  Starlight  \n",
       "2            12.0          12.0     3000          Bionic Chip   Midnight  \n",
       "3            12.0          12.0     3000          Bionic Chip     Purple  \n",
       "4            48.0          12.0     3000          Bionic Chip       Blue  \n",
       "...           ...           ...      ...                  ...        ...  \n",
       "1467         13.0           8.0     5000             Mediatek      White  \n",
       "1468         13.0           8.0     3260             Mediatek       Blue  \n",
       "1469          8.0           5.0     2500  Qualcomm Sanpdragon      Black  \n",
       "1470         13.0          16.0     5000             Mediatek      Black  \n",
       "1471         16.0          32.0     5000  Qualcomm Sanpdragon     Silver  \n",
       "\n",
       "[1428 rows x 11 columns]"
      ]
     },
     "execution_count": 462,
     "metadata": {},
     "output_type": "execute_result"
    }
   ],
   "source": [
    "X"
   ]
  },
  {
   "cell_type": "code",
   "execution_count": 466,
   "metadata": {},
   "outputs": [
    {
     "name": "stderr",
     "output_type": "stream",
     "text": [
      "c:\\Users\\sanjay\\AppData\\Local\\Programs\\Python\\Python312\\Lib\\site-packages\\sklearn\\base.py:465: UserWarning: X does not have valid feature names, but OneHotEncoder was fitted with feature names\n",
      "  warnings.warn(\n"
     ]
    },
    {
     "data": {
      "text/plain": [
       "array([27550.52323916])"
      ]
     },
     "execution_count": 466,
     "metadata": {},
     "output_type": "execute_result"
    }
   ],
   "source": [
    "np.exp(pipe.predict([['realme',8,256,0,6.7,0,50,32,5000,'Qualcomm Sanpdragon','Blue']]))"
   ]
  },
  {
   "cell_type": "code",
   "execution_count": 508,
   "metadata": {},
   "outputs": [
    {
     "name": "stderr",
     "output_type": "stream",
     "text": [
      "C:\\Users\\sanjay\\AppData\\Local\\Temp\\ipykernel_1800\\3861378567.py:1: SettingWithCopyWarning: \n",
      "A value is trying to be set on a copy of a slice from a DataFrame.\n",
      "Try using .loc[row_indexer,col_indexer] = value instead\n",
      "\n",
      "See the caveats in the documentation: https://pandas.pydata.org/pandas-docs/stable/user_guide/indexing.html#returning-a-view-versus-a-copy\n",
      "  df['color'] = X['color']\n"
     ]
    }
   ],
   "source": [
    "df['color'] = X['color']"
   ]
  },
  {
   "cell_type": "code",
   "execution_count": 509,
   "metadata": {},
   "outputs": [
    {
     "data": {
      "text/html": [
       "<div>\n",
       "<style scoped>\n",
       "    .dataframe tbody tr th:only-of-type {\n",
       "        vertical-align: middle;\n",
       "    }\n",
       "\n",
       "    .dataframe tbody tr th {\n",
       "        vertical-align: top;\n",
       "    }\n",
       "\n",
       "    .dataframe thead th {\n",
       "        text-align: right;\n",
       "    }\n",
       "</style>\n",
       "<table border=\"1\" class=\"dataframe\">\n",
       "  <thead>\n",
       "    <tr style=\"text-align: right;\">\n",
       "      <th></th>\n",
       "      <th>company</th>\n",
       "      <th>Price</th>\n",
       "      <th>Ram</th>\n",
       "      <th>internal</th>\n",
       "      <th>is_expandable</th>\n",
       "      <th>expandable_upto</th>\n",
       "      <th>display_inch</th>\n",
       "      <th>is_retina_display</th>\n",
       "      <th>display_type</th>\n",
       "      <th>rear_camera</th>\n",
       "      <th>front_camera</th>\n",
       "      <th>Battery</th>\n",
       "      <th>Processor_type</th>\n",
       "      <th>color</th>\n",
       "    </tr>\n",
       "  </thead>\n",
       "  <tbody>\n",
       "    <tr>\n",
       "      <th>0</th>\n",
       "      <td>apple</td>\n",
       "      <td>10.968181</td>\n",
       "      <td>4</td>\n",
       "      <td>128</td>\n",
       "      <td>0</td>\n",
       "      <td>256</td>\n",
       "      <td>6.10</td>\n",
       "      <td>1</td>\n",
       "      <td>XDR</td>\n",
       "      <td>12.0</td>\n",
       "      <td>12.0</td>\n",
       "      <td>3000</td>\n",
       "      <td>Bionic Chip</td>\n",
       "      <td>Blue</td>\n",
       "    </tr>\n",
       "    <tr>\n",
       "      <th>1</th>\n",
       "      <td>apple</td>\n",
       "      <td>10.985276</td>\n",
       "      <td>4</td>\n",
       "      <td>128</td>\n",
       "      <td>0</td>\n",
       "      <td>256</td>\n",
       "      <td>6.10</td>\n",
       "      <td>1</td>\n",
       "      <td>XDR</td>\n",
       "      <td>12.0</td>\n",
       "      <td>12.0</td>\n",
       "      <td>3000</td>\n",
       "      <td>Bionic Chip</td>\n",
       "      <td>Starlight</td>\n",
       "    </tr>\n",
       "    <tr>\n",
       "      <th>2</th>\n",
       "      <td>apple</td>\n",
       "      <td>11.097395</td>\n",
       "      <td>4</td>\n",
       "      <td>128</td>\n",
       "      <td>0</td>\n",
       "      <td>256</td>\n",
       "      <td>6.70</td>\n",
       "      <td>1</td>\n",
       "      <td>XDR</td>\n",
       "      <td>12.0</td>\n",
       "      <td>12.0</td>\n",
       "      <td>3000</td>\n",
       "      <td>Bionic Chip</td>\n",
       "      <td>Midnight</td>\n",
       "    </tr>\n",
       "    <tr>\n",
       "      <th>3</th>\n",
       "      <td>apple</td>\n",
       "      <td>11.082127</td>\n",
       "      <td>4</td>\n",
       "      <td>128</td>\n",
       "      <td>0</td>\n",
       "      <td>256</td>\n",
       "      <td>6.70</td>\n",
       "      <td>1</td>\n",
       "      <td>XDR</td>\n",
       "      <td>12.0</td>\n",
       "      <td>12.0</td>\n",
       "      <td>3000</td>\n",
       "      <td>Bionic Chip</td>\n",
       "      <td>Purple</td>\n",
       "    </tr>\n",
       "    <tr>\n",
       "      <th>4</th>\n",
       "      <td>apple</td>\n",
       "      <td>11.263181</td>\n",
       "      <td>4</td>\n",
       "      <td>128</td>\n",
       "      <td>0</td>\n",
       "      <td>256</td>\n",
       "      <td>6.10</td>\n",
       "      <td>1</td>\n",
       "      <td>XDR</td>\n",
       "      <td>48.0</td>\n",
       "      <td>12.0</td>\n",
       "      <td>3000</td>\n",
       "      <td>Bionic Chip</td>\n",
       "      <td>Blue</td>\n",
       "    </tr>\n",
       "    <tr>\n",
       "      <th>...</th>\n",
       "      <td>...</td>\n",
       "      <td>...</td>\n",
       "      <td>...</td>\n",
       "      <td>...</td>\n",
       "      <td>...</td>\n",
       "      <td>...</td>\n",
       "      <td>...</td>\n",
       "      <td>...</td>\n",
       "      <td>...</td>\n",
       "      <td>...</td>\n",
       "      <td>...</td>\n",
       "      <td>...</td>\n",
       "      <td>...</td>\n",
       "      <td>...</td>\n",
       "    </tr>\n",
       "    <tr>\n",
       "      <th>1467</th>\n",
       "      <td>vivo</td>\n",
       "      <td>9.509704</td>\n",
       "      <td>4</td>\n",
       "      <td>64</td>\n",
       "      <td>1</td>\n",
       "      <td>256</td>\n",
       "      <td>6.51</td>\n",
       "      <td>0</td>\n",
       "      <td>HD</td>\n",
       "      <td>13.0</td>\n",
       "      <td>8.0</td>\n",
       "      <td>5000</td>\n",
       "      <td>Mediatek</td>\n",
       "      <td>White</td>\n",
       "    </tr>\n",
       "    <tr>\n",
       "      <th>1468</th>\n",
       "      <td>vivo</td>\n",
       "      <td>9.464207</td>\n",
       "      <td>4</td>\n",
       "      <td>64</td>\n",
       "      <td>1</td>\n",
       "      <td>256</td>\n",
       "      <td>6.22</td>\n",
       "      <td>0</td>\n",
       "      <td>HD</td>\n",
       "      <td>13.0</td>\n",
       "      <td>8.0</td>\n",
       "      <td>3260</td>\n",
       "      <td>Mediatek</td>\n",
       "      <td>Blue</td>\n",
       "    </tr>\n",
       "    <tr>\n",
       "      <th>1469</th>\n",
       "      <td>vivo</td>\n",
       "      <td>8.999619</td>\n",
       "      <td>2</td>\n",
       "      <td>16</td>\n",
       "      <td>1</td>\n",
       "      <td>256</td>\n",
       "      <td>5.00</td>\n",
       "      <td>0</td>\n",
       "      <td>HD</td>\n",
       "      <td>8.0</td>\n",
       "      <td>5.0</td>\n",
       "      <td>2500</td>\n",
       "      <td>Qualcomm Sanpdragon</td>\n",
       "      <td>Black</td>\n",
       "    </tr>\n",
       "    <tr>\n",
       "      <th>1470</th>\n",
       "      <td>vivo</td>\n",
       "      <td>9.797571</td>\n",
       "      <td>4</td>\n",
       "      <td>64</td>\n",
       "      <td>1</td>\n",
       "      <td>256</td>\n",
       "      <td>6.35</td>\n",
       "      <td>0</td>\n",
       "      <td>HD</td>\n",
       "      <td>13.0</td>\n",
       "      <td>16.0</td>\n",
       "      <td>5000</td>\n",
       "      <td>Mediatek</td>\n",
       "      <td>Black</td>\n",
       "    </tr>\n",
       "    <tr>\n",
       "      <th>1471</th>\n",
       "      <td>vivo</td>\n",
       "      <td>9.797571</td>\n",
       "      <td>4</td>\n",
       "      <td>64</td>\n",
       "      <td>1</td>\n",
       "      <td>256</td>\n",
       "      <td>6.53</td>\n",
       "      <td>0</td>\n",
       "      <td>HD</td>\n",
       "      <td>16.0</td>\n",
       "      <td>32.0</td>\n",
       "      <td>5000</td>\n",
       "      <td>Qualcomm Sanpdragon</td>\n",
       "      <td>Silver</td>\n",
       "    </tr>\n",
       "  </tbody>\n",
       "</table>\n",
       "<p>1428 rows × 14 columns</p>\n",
       "</div>"
      ],
      "text/plain": [
       "     company      Price  Ram  internal  is_expandable  expandable_upto  \\\n",
       "0      apple  10.968181    4       128              0              256   \n",
       "1      apple  10.985276    4       128              0              256   \n",
       "2      apple  11.097395    4       128              0              256   \n",
       "3      apple  11.082127    4       128              0              256   \n",
       "4      apple  11.263181    4       128              0              256   \n",
       "...      ...        ...  ...       ...            ...              ...   \n",
       "1467    vivo   9.509704    4        64              1              256   \n",
       "1468    vivo   9.464207    4        64              1              256   \n",
       "1469    vivo   8.999619    2        16              1              256   \n",
       "1470    vivo   9.797571    4        64              1              256   \n",
       "1471    vivo   9.797571    4        64              1              256   \n",
       "\n",
       "      display_inch  is_retina_display display_type  rear_camera  front_camera  \\\n",
       "0             6.10                  1          XDR         12.0          12.0   \n",
       "1             6.10                  1          XDR         12.0          12.0   \n",
       "2             6.70                  1          XDR         12.0          12.0   \n",
       "3             6.70                  1          XDR         12.0          12.0   \n",
       "4             6.10                  1          XDR         48.0          12.0   \n",
       "...            ...                ...          ...          ...           ...   \n",
       "1467          6.51                  0           HD         13.0           8.0   \n",
       "1468          6.22                  0           HD         13.0           8.0   \n",
       "1469          5.00                  0           HD          8.0           5.0   \n",
       "1470          6.35                  0           HD         13.0          16.0   \n",
       "1471          6.53                  0           HD         16.0          32.0   \n",
       "\n",
       "      Battery       Processor_type      color  \n",
       "0        3000          Bionic Chip       Blue  \n",
       "1        3000          Bionic Chip  Starlight  \n",
       "2        3000          Bionic Chip   Midnight  \n",
       "3        3000          Bionic Chip     Purple  \n",
       "4        3000          Bionic Chip       Blue  \n",
       "...       ...                  ...        ...  \n",
       "1467     5000             Mediatek      White  \n",
       "1468     3260             Mediatek       Blue  \n",
       "1469     2500  Qualcomm Sanpdragon      Black  \n",
       "1470     5000             Mediatek      Black  \n",
       "1471     5000  Qualcomm Sanpdragon     Silver  \n",
       "\n",
       "[1428 rows x 14 columns]"
      ]
     },
     "execution_count": 509,
     "metadata": {},
     "output_type": "execute_result"
    }
   ],
   "source": [
    "df"
   ]
  },
  {
   "cell_type": "code",
   "execution_count": 460,
   "metadata": {},
   "outputs": [],
   "source": [
    "import pickle\n",
    "\n",
    "pickle.dump(df,open('df.pkl','wb'))\n",
    "pickle.dump(pipe,open('pipe.pkl','wb'))"
   ]
  }
 ],
 "metadata": {
  "kernelspec": {
   "display_name": "Python 3",
   "language": "python",
   "name": "python3"
  },
  "language_info": {
   "codemirror_mode": {
    "name": "ipython",
    "version": 3
   },
   "file_extension": ".py",
   "mimetype": "text/x-python",
   "name": "python",
   "nbconvert_exporter": "python",
   "pygments_lexer": "ipython3",
   "version": "3.12.1"
  }
 },
 "nbformat": 4,
 "nbformat_minor": 2
}
