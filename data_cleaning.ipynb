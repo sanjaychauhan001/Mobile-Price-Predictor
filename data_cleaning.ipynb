{
 "cells": [
  {
   "cell_type": "code",
   "execution_count": 1,
   "metadata": {},
   "outputs": [],
   "source": [
    "import pandas as pd\n",
    "import numpy as np"
   ]
  },
  {
   "cell_type": "code",
   "execution_count": 2,
   "metadata": {},
   "outputs": [
    {
     "data": {
      "text/html": [
       "<div>\n",
       "<style scoped>\n",
       "    .dataframe tbody tr th:only-of-type {\n",
       "        vertical-align: middle;\n",
       "    }\n",
       "\n",
       "    .dataframe tbody tr th {\n",
       "        vertical-align: top;\n",
       "    }\n",
       "\n",
       "    .dataframe thead th {\n",
       "        text-align: right;\n",
       "    }\n",
       "</style>\n",
       "<table border=\"1\" class=\"dataframe\">\n",
       "  <thead>\n",
       "    <tr style=\"text-align: right;\">\n",
       "      <th></th>\n",
       "      <th>model</th>\n",
       "      <th>Price</th>\n",
       "      <th>ranting</th>\n",
       "      <th>ram</th>\n",
       "      <th>display</th>\n",
       "      <th>camera</th>\n",
       "      <th>battery</th>\n",
       "      <th>processor</th>\n",
       "      <th>warrenty</th>\n",
       "    </tr>\n",
       "  </thead>\n",
       "  <tbody>\n",
       "    <tr>\n",
       "      <th>0</th>\n",
       "      <td>APPLE iPhone 14 (Blue, 128 GB)</td>\n",
       "      <td>₹57,999</td>\n",
       "      <td>4.6</td>\n",
       "      <td>128 GB ROM</td>\n",
       "      <td>15.49 cm (6.1 inch) Super Retina XDR Display</td>\n",
       "      <td>12MP + 12MP | 12MP Front Camera</td>\n",
       "      <td>A15 Bionic Chip, 6 Core Processor Processor</td>\n",
       "      <td>1 Year Warranty for Phone and 6 Months Warrant...</td>\n",
       "      <td>NaN</td>\n",
       "    </tr>\n",
       "    <tr>\n",
       "      <th>1</th>\n",
       "      <td>APPLE iPhone 14 (Starlight, 128 GB)</td>\n",
       "      <td>₹58,999</td>\n",
       "      <td>4.6</td>\n",
       "      <td>128 GB ROM</td>\n",
       "      <td>15.49 cm (6.1 inch) Super Retina XDR Display</td>\n",
       "      <td>12MP + 12MP | 12MP Front Camera</td>\n",
       "      <td>A15 Bionic Chip, 6 Core Processor Processor</td>\n",
       "      <td>1 Year Warranty for Phone and 6 Months Warrant...</td>\n",
       "      <td>NaN</td>\n",
       "    </tr>\n",
       "    <tr>\n",
       "      <th>2</th>\n",
       "      <td>APPLE iPhone 14 (Midnight, 128 GB)</td>\n",
       "      <td>₹58,999</td>\n",
       "      <td>4.6</td>\n",
       "      <td>128 GB ROM</td>\n",
       "      <td>15.49 cm (6.1 inch) Super Retina XDR Display</td>\n",
       "      <td>12MP + 12MP | 12MP Front Camera</td>\n",
       "      <td>A15 Bionic Chip, 6 Core Processor Processor</td>\n",
       "      <td>1 Year Warranty for Phone and 6 Months Warrant...</td>\n",
       "      <td>NaN</td>\n",
       "    </tr>\n",
       "    <tr>\n",
       "      <th>3</th>\n",
       "      <td>APPLE iPhone 14 (Purple, 128 GB)</td>\n",
       "      <td>₹58,999</td>\n",
       "      <td>4.6</td>\n",
       "      <td>128 GB ROM</td>\n",
       "      <td>15.49 cm (6.1 inch) Super Retina XDR Display</td>\n",
       "      <td>12MP + 12MP | 12MP Front Camera</td>\n",
       "      <td>A15 Bionic Chip, 6 Core Processor Processor</td>\n",
       "      <td>1 Year Warranty for Phone and 6 Months Warrant...</td>\n",
       "      <td>NaN</td>\n",
       "    </tr>\n",
       "    <tr>\n",
       "      <th>4</th>\n",
       "      <td>APPLE iPhone 14 Plus (Blue, 128 GB)</td>\n",
       "      <td>₹65,999</td>\n",
       "      <td>4.6</td>\n",
       "      <td>128 GB ROM</td>\n",
       "      <td>17.02 cm (6.7 inch) Super Retina XDR Display</td>\n",
       "      <td>12MP + 12MP | 12MP Front Camera</td>\n",
       "      <td>A15 Bionic Chip, 6 Core Processor Processor</td>\n",
       "      <td>1 Year Warranty for Phone and 6 Months Warrant...</td>\n",
       "      <td>NaN</td>\n",
       "    </tr>\n",
       "  </tbody>\n",
       "</table>\n",
       "</div>"
      ],
      "text/plain": [
       "                                 model    Price  ranting         ram  \\\n",
       "0       APPLE iPhone 14 (Blue, 128 GB)  ₹57,999      4.6  128 GB ROM   \n",
       "1  APPLE iPhone 14 (Starlight, 128 GB)  ₹58,999      4.6  128 GB ROM   \n",
       "2   APPLE iPhone 14 (Midnight, 128 GB)  ₹58,999      4.6  128 GB ROM   \n",
       "3     APPLE iPhone 14 (Purple, 128 GB)  ₹58,999      4.6  128 GB ROM   \n",
       "4  APPLE iPhone 14 Plus (Blue, 128 GB)  ₹65,999      4.6  128 GB ROM   \n",
       "\n",
       "                                        display  \\\n",
       "0  15.49 cm (6.1 inch) Super Retina XDR Display   \n",
       "1  15.49 cm (6.1 inch) Super Retina XDR Display   \n",
       "2  15.49 cm (6.1 inch) Super Retina XDR Display   \n",
       "3  15.49 cm (6.1 inch) Super Retina XDR Display   \n",
       "4  17.02 cm (6.7 inch) Super Retina XDR Display   \n",
       "\n",
       "                            camera  \\\n",
       "0  12MP + 12MP | 12MP Front Camera   \n",
       "1  12MP + 12MP | 12MP Front Camera   \n",
       "2  12MP + 12MP | 12MP Front Camera   \n",
       "3  12MP + 12MP | 12MP Front Camera   \n",
       "4  12MP + 12MP | 12MP Front Camera   \n",
       "\n",
       "                                       battery  \\\n",
       "0  A15 Bionic Chip, 6 Core Processor Processor   \n",
       "1  A15 Bionic Chip, 6 Core Processor Processor   \n",
       "2  A15 Bionic Chip, 6 Core Processor Processor   \n",
       "3  A15 Bionic Chip, 6 Core Processor Processor   \n",
       "4  A15 Bionic Chip, 6 Core Processor Processor   \n",
       "\n",
       "                                           processor warrenty  \n",
       "0  1 Year Warranty for Phone and 6 Months Warrant...      NaN  \n",
       "1  1 Year Warranty for Phone and 6 Months Warrant...      NaN  \n",
       "2  1 Year Warranty for Phone and 6 Months Warrant...      NaN  \n",
       "3  1 Year Warranty for Phone and 6 Months Warrant...      NaN  \n",
       "4  1 Year Warranty for Phone and 6 Months Warrant...      NaN  "
      ]
     },
     "execution_count": 2,
     "metadata": {},
     "output_type": "execute_result"
    }
   ],
   "source": [
    "df = pd.read_csv(\"C:\\\\Users\\\\sanjay\\\\Documents\\\\All working files\\\\projects\\\\mobile price predictor\\\\all_phones_data.csv\")\n",
    "df.head()"
   ]
  },
  {
   "cell_type": "code",
   "execution_count": 3,
   "metadata": {},
   "outputs": [
    {
     "data": {
      "text/plain": [
       "(2579, 9)"
      ]
     },
     "execution_count": 3,
     "metadata": {},
     "output_type": "execute_result"
    }
   ],
   "source": [
    "df.shape"
   ]
  },
  {
   "cell_type": "code",
   "execution_count": 4,
   "metadata": {},
   "outputs": [
    {
     "name": "stdout",
     "output_type": "stream",
     "text": [
      "<class 'pandas.core.frame.DataFrame'>\n",
      "RangeIndex: 2579 entries, 0 to 2578\n",
      "Data columns (total 9 columns):\n",
      " #   Column     Non-Null Count  Dtype  \n",
      "---  ------     --------------  -----  \n",
      " 0   model      2579 non-null   object \n",
      " 1   Price      2547 non-null   object \n",
      " 2   ranting    2549 non-null   float64\n",
      " 3   ram        2579 non-null   object \n",
      " 4   display    2579 non-null   object \n",
      " 5   camera     2579 non-null   object \n",
      " 6   battery    2579 non-null   object \n",
      " 7   processor  2561 non-null   object \n",
      " 8   warrenty   1954 non-null   object \n",
      "dtypes: float64(1), object(8)\n",
      "memory usage: 181.5+ KB\n"
     ]
    }
   ],
   "source": [
    "df.info()"
   ]
  },
  {
   "cell_type": "code",
   "execution_count": 5,
   "metadata": {},
   "outputs": [
    {
     "data": {
      "text/plain": [
       "model          0\n",
       "Price         32\n",
       "ranting       30\n",
       "ram            0\n",
       "display        0\n",
       "camera         0\n",
       "battery        0\n",
       "processor     18\n",
       "warrenty     625\n",
       "dtype: int64"
      ]
     },
     "execution_count": 5,
     "metadata": {},
     "output_type": "execute_result"
    }
   ],
   "source": [
    "df.isnull().sum()"
   ]
  },
  {
   "cell_type": "code",
   "execution_count": 6,
   "metadata": {},
   "outputs": [],
   "source": [
    "company = df['model'].str.split(\" \").str[0]"
   ]
  },
  {
   "cell_type": "code",
   "execution_count": 7,
   "metadata": {},
   "outputs": [],
   "source": [
    "df.insert(0,'company',company)"
   ]
  },
  {
   "cell_type": "code",
   "execution_count": 8,
   "metadata": {},
   "outputs": [],
   "source": [
    "df['company'] = df['company'].str.lower()"
   ]
  },
  {
   "cell_type": "code",
   "execution_count": 9,
   "metadata": {},
   "outputs": [],
   "source": [
    "df.drop(columns=['model'],inplace=True)"
   ]
  },
  {
   "cell_type": "code",
   "execution_count": 10,
   "metadata": {},
   "outputs": [
    {
     "data": {
      "text/plain": [
       "1089"
      ]
     },
     "execution_count": 10,
     "metadata": {},
     "output_type": "execute_result"
    }
   ],
   "source": [
    "df.duplicated().sum()"
   ]
  },
  {
   "cell_type": "code",
   "execution_count": 11,
   "metadata": {},
   "outputs": [],
   "source": [
    "df.drop_duplicates(inplace=True)"
   ]
  },
  {
   "cell_type": "code",
   "execution_count": 12,
   "metadata": {},
   "outputs": [
    {
     "data": {
      "text/plain": [
       "(1490, 9)"
      ]
     },
     "execution_count": 12,
     "metadata": {},
     "output_type": "execute_result"
    }
   ],
   "source": [
    "df.shape"
   ]
  },
  {
   "cell_type": "code",
   "execution_count": 13,
   "metadata": {},
   "outputs": [],
   "source": [
    "df['Price'] = df['Price'].str.split('₹').str[1].str.replace(\",\",\"\").astype('float')"
   ]
  },
  {
   "cell_type": "code",
   "execution_count": 14,
   "metadata": {},
   "outputs": [],
   "source": [
    "def extract_ram(ram):\n",
    "    if 'RAM' in ram:\n",
    "        return ram.split(\" \")[0]\n",
    "    else:\n",
    "        return np.nan"
   ]
  },
  {
   "cell_type": "code",
   "execution_count": 15,
   "metadata": {},
   "outputs": [
    {
     "data": {
      "text/plain": [
       "'3'"
      ]
     },
     "execution_count": 15,
     "metadata": {},
     "output_type": "execute_result"
    }
   ],
   "source": [
    "extract_ram(\"3 GB RAM | 32 GB ROM | Expandable Upto 256 GB\")"
   ]
  },
  {
   "cell_type": "code",
   "execution_count": 16,
   "metadata": {},
   "outputs": [],
   "source": [
    "ram = df['ram'].apply(extract_ram)"
   ]
  },
  {
   "cell_type": "code",
   "execution_count": 17,
   "metadata": {},
   "outputs": [],
   "source": [
    "df.insert(4,\"Ram\",ram)"
   ]
  },
  {
   "cell_type": "code",
   "execution_count": 18,
   "metadata": {},
   "outputs": [],
   "source": [
    "rom = df['ram'].str.split(\"|\").str[1].str.strip().str.split(\" \").str[0]"
   ]
  },
  {
   "cell_type": "code",
   "execution_count": 19,
   "metadata": {},
   "outputs": [],
   "source": [
    "df.insert(5,\"internal\",rom)"
   ]
  },
  {
   "cell_type": "code",
   "execution_count": 20,
   "metadata": {},
   "outputs": [],
   "source": [
    "apple_df = df[df['company'] == 'apple']"
   ]
  },
  {
   "cell_type": "code",
   "execution_count": 21,
   "metadata": {},
   "outputs": [],
   "source": [
    "apple_rom = apple_df['ram'].str.split(\" \").str[0]"
   ]
  },
  {
   "cell_type": "code",
   "execution_count": 22,
   "metadata": {},
   "outputs": [
    {
     "data": {
      "text/plain": [
       "array(['128', '128', '128', '128', '128', '256', '64', '256', '128',\n",
       "       '128', '128', '128', '512', '128', '256', '64', '256', '256',\n",
       "       '256', '1', '512', '1', '1', '512', '1', '512', '512', '512',\n",
       "       '256', '512', '512', '64', '128', '128', '512', '64', '256', '128',\n",
       "       '64', '16', '64', '256', '1', '128', '64', '128', '256', '64',\n",
       "       '16', '8', '32', '16', '256', '512', '256', '256', '256', '128',\n",
       "       '256', '64', '256', '256', '64', '128', '256', '512', '128', '32',\n",
       "       '64', '128', '512', '128', '128', '256', '256', '256', '64', '32',\n",
       "       '128', '512', '64', '128', '16', '256', '512', '32', '256', '64',\n",
       "       '128', '64', '32', '512', '128', '256', '64', '32', '64', '256',\n",
       "       '256', '512', '128', '128', '32', '256', '64', '128', '64', '128',\n",
       "       '512', '256', '128', '16', '256', '32', '256', '512', '16', '256',\n",
       "       '16', '128', '256', '256', '64', '128', '64', '1', '256', '16',\n",
       "       '128', '64', '128', '64', '256', '512', '16', '16', '128', '128',\n",
       "       '256', '64', '64', '16', '8', '64', '8', '32', '8', '128', '64',\n",
       "       '16', '128'], dtype=object)"
      ]
     },
     "execution_count": 22,
     "metadata": {},
     "output_type": "execute_result"
    }
   ],
   "source": [
    "apple_rom.values"
   ]
  },
  {
   "cell_type": "code",
   "execution_count": 23,
   "metadata": {},
   "outputs": [],
   "source": [
    "df.loc[apple_df.index,apple_df.columns[5]] = apple_rom.values"
   ]
  },
  {
   "cell_type": "code",
   "execution_count": 24,
   "metadata": {},
   "outputs": [],
   "source": [
    "def is_expandable(value):\n",
    "    if \"Expandable\" in value:\n",
    "        return 1\n",
    "    else:\n",
    "        return 0"
   ]
  },
  {
   "cell_type": "code",
   "execution_count": 25,
   "metadata": {},
   "outputs": [],
   "source": [
    "is_exp = df['ram'].apply(is_expandable)"
   ]
  },
  {
   "cell_type": "code",
   "execution_count": 26,
   "metadata": {},
   "outputs": [],
   "source": [
    "df.insert(6,\"is_expandable\",is_exp)"
   ]
  },
  {
   "cell_type": "code",
   "execution_count": 27,
   "metadata": {},
   "outputs": [],
   "source": [
    "expandable_upto = df['ram'].str.split(\"Expandable\").str[1].str.strip().str.split(\" \").str[1]"
   ]
  },
  {
   "cell_type": "code",
   "execution_count": 28,
   "metadata": {},
   "outputs": [],
   "source": [
    "df.insert(7,\"expandable_upto\",expandable_upto)"
   ]
  },
  {
   "cell_type": "code",
   "execution_count": 29,
   "metadata": {},
   "outputs": [],
   "source": [
    "df.drop(columns=['ram'], inplace=True)"
   ]
  },
  {
   "cell_type": "code",
   "execution_count": 30,
   "metadata": {},
   "outputs": [],
   "source": [
    "display = df['display'].str.strip().str.split(\"(\").str[1].str.split(\" \").str[0]"
   ]
  },
  {
   "cell_type": "code",
   "execution_count": 31,
   "metadata": {},
   "outputs": [],
   "source": [
    "df.insert(8,'display_inch',display)"
   ]
  },
  {
   "cell_type": "code",
   "execution_count": 32,
   "metadata": {},
   "outputs": [],
   "source": [
    "def is_retina(value):\n",
    "    if \"Retina\" in value:\n",
    "        return 1\n",
    "    else:\n",
    "        return 0"
   ]
  },
  {
   "cell_type": "code",
   "execution_count": 33,
   "metadata": {},
   "outputs": [],
   "source": [
    "retina = df['display'].apply(is_retina)"
   ]
  },
  {
   "cell_type": "code",
   "execution_count": 34,
   "metadata": {},
   "outputs": [],
   "source": [
    "df.insert(9,'is_retina_display',retina)"
   ]
  },
  {
   "cell_type": "code",
   "execution_count": 35,
   "metadata": {},
   "outputs": [],
   "source": [
    "def type_display(value):\n",
    "    if \"XDR\" in value:\n",
    "        return \"XDR\"\n",
    "    elif \"HD\" in value:\n",
    "        return \"HD\" "
   ]
  },
  {
   "cell_type": "code",
   "execution_count": 36,
   "metadata": {},
   "outputs": [],
   "source": [
    "display_type = df['display'].apply(type_display)"
   ]
  },
  {
   "cell_type": "code",
   "execution_count": 37,
   "metadata": {},
   "outputs": [],
   "source": [
    "df.insert(10,\"display_type\",display_type)"
   ]
  },
  {
   "cell_type": "code",
   "execution_count": 38,
   "metadata": {},
   "outputs": [],
   "source": [
    "df.drop(columns=['display'],inplace=True)"
   ]
  },
  {
   "cell_type": "code",
   "execution_count": null,
   "metadata": {},
   "outputs": [],
   "source": [
    "df['camera'].str.contains('Battery') # feature phones"
   ]
  },
  {
   "cell_type": "code",
   "execution_count": 44,
   "metadata": {},
   "outputs": [],
   "source": [
    "df.drop(index=df[df['camera'].str.contains('Battery')].index, inplace=True)"
   ]
  },
  {
   "cell_type": "code",
   "execution_count": 57,
   "metadata": {},
   "outputs": [],
   "source": [
    "df.drop(index=919,inplace=True)"
   ]
  },
  {
   "cell_type": "code",
   "execution_count": 71,
   "metadata": {},
   "outputs": [],
   "source": [
    "rear_cam = df['camera'].str.strip().str.split(\" \").str[0].str.replace(\"MP\",\"\")"
   ]
  },
  {
   "cell_type": "code",
   "execution_count": 73,
   "metadata": {},
   "outputs": [],
   "source": [
    "df.insert(11,\"rear_camera\",rear_cam)"
   ]
  },
  {
   "cell_type": "code",
   "execution_count": 100,
   "metadata": {},
   "outputs": [],
   "source": [
    "front_cam = df['camera'].str.split(\"|\").str[1].str.split(\"MP\").str[0]"
   ]
  },
  {
   "cell_type": "code",
   "execution_count": 101,
   "metadata": {},
   "outputs": [],
   "source": [
    "df.insert(12,\"front_camera\", front_cam)"
   ]
  },
  {
   "cell_type": "code",
   "execution_count": 117,
   "metadata": {},
   "outputs": [],
   "source": [
    "df.drop(columns=['camera'],inplace=True)"
   ]
  },
  {
   "cell_type": "code",
   "execution_count": 134,
   "metadata": {},
   "outputs": [],
   "source": [
    "temp_df = df[df['company'] == 'apple']"
   ]
  },
  {
   "cell_type": "code",
   "execution_count": 141,
   "metadata": {},
   "outputs": [],
   "source": [
    "x = temp_df[['battery','processor','warrenty']].shift(1,axis=1).values"
   ]
  },
  {
   "cell_type": "code",
   "execution_count": 144,
   "metadata": {},
   "outputs": [],
   "source": [
    "df.loc[temp_df.index, df.columns[12:15]] = x"
   ]
  },
  {
   "cell_type": "code",
   "execution_count": 154,
   "metadata": {},
   "outputs": [],
   "source": [
    "battery = df['battery'].str.strip().str.split(\" \").str[0]"
   ]
  },
  {
   "cell_type": "code",
   "execution_count": 156,
   "metadata": {},
   "outputs": [],
   "source": [
    "df.insert(13,\"Battery\",battery)"
   ]
  },
  {
   "cell_type": "code",
   "execution_count": 159,
   "metadata": {},
   "outputs": [],
   "source": [
    "df.drop(columns=['battery'], inplace=True)"
   ]
  },
  {
   "cell_type": "code",
   "execution_count": 167,
   "metadata": {},
   "outputs": [],
   "source": [
    "temp = df[df['processor'].str.contains(\"Year\")]"
   ]
  },
  {
   "cell_type": "code",
   "execution_count": 192,
   "metadata": {},
   "outputs": [],
   "source": [
    "y = temp[['processor','warrenty']].shift(1,axis=1).values"
   ]
  },
  {
   "cell_type": "code",
   "execution_count": 193,
   "metadata": {},
   "outputs": [],
   "source": [
    "df.loc[temp.index, df.columns[13:]] = y"
   ]
  },
  {
   "cell_type": "code",
   "execution_count": 232,
   "metadata": {},
   "outputs": [],
   "source": [
    "def extract_processor(value):\n",
    "    if(\"Qualcomm\" in value):\n",
    "        return \"Qualcomm Sanpdragon\"\n",
    "    elif(\"Snapdragon\" in value):\n",
    "        return \"Qualcomm Sanpdragon\"\n",
    "    elif \"MediaTek\" in value:\n",
    "        return \"Mediatek\"\n",
    "    elif \"Helio\" in value:\n",
    "        return \"Mediatek\"\n",
    "    elif \"Dimensity\" in value:\n",
    "        return \"Mediatek\"\n",
    "    elif \"Exynos\" in value:\n",
    "        return \"Exynos\"\n",
    "    elif \"Bionic Chip\" in value:\n",
    "        return \"Bionic Chip\"\n",
    "    elif \"Chip\" in value:\n",
    "        return \"Bionic Chip\"\n",
    "    else:\n",
    "        return \"other\""
   ]
  },
  {
   "cell_type": "code",
   "execution_count": 284,
   "metadata": {},
   "outputs": [],
   "source": [
    "processor_type1 = df['processor'].fillna(value=\"something\").apply(extract_processor)"
   ]
  },
  {
   "cell_type": "code",
   "execution_count": 288,
   "metadata": {},
   "outputs": [],
   "source": [
    "df.insert(14,\"Processor_type\",processor_type1)"
   ]
  },
  {
   "cell_type": "code",
   "execution_count": 295,
   "metadata": {},
   "outputs": [],
   "source": [
    "df.drop(columns=['processor','warrenty'],inplace=True)"
   ]
  },
  {
   "cell_type": "code",
   "execution_count": 300,
   "metadata": {},
   "outputs": [],
   "source": [
    "df.drop(columns=['ranting'],inplace=True)"
   ]
  },
  {
   "cell_type": "code",
   "execution_count": 314,
   "metadata": {},
   "outputs": [],
   "source": [
    "df.drop(index=[673,1266,2231],inplace=True)"
   ]
  },
  {
   "cell_type": "code",
   "execution_count": 315,
   "metadata": {},
   "outputs": [
    {
     "data": {
      "text/html": [
       "<div>\n",
       "<style scoped>\n",
       "    .dataframe tbody tr th:only-of-type {\n",
       "        vertical-align: middle;\n",
       "    }\n",
       "\n",
       "    .dataframe tbody tr th {\n",
       "        vertical-align: top;\n",
       "    }\n",
       "\n",
       "    .dataframe thead th {\n",
       "        text-align: right;\n",
       "    }\n",
       "</style>\n",
       "<table border=\"1\" class=\"dataframe\">\n",
       "  <thead>\n",
       "    <tr style=\"text-align: right;\">\n",
       "      <th></th>\n",
       "      <th>company</th>\n",
       "      <th>Price</th>\n",
       "      <th>Ram</th>\n",
       "      <th>internal</th>\n",
       "      <th>is_expandable</th>\n",
       "      <th>expandable_upto</th>\n",
       "      <th>display_inch</th>\n",
       "      <th>is_retina_display</th>\n",
       "      <th>display_type</th>\n",
       "      <th>rear_camera</th>\n",
       "      <th>front_camera</th>\n",
       "      <th>Battery</th>\n",
       "      <th>Processor_type</th>\n",
       "    </tr>\n",
       "  </thead>\n",
       "  <tbody>\n",
       "    <tr>\n",
       "      <th>2289</th>\n",
       "      <td>vivo</td>\n",
       "      <td>NaN</td>\n",
       "      <td>8</td>\n",
       "      <td>256</td>\n",
       "      <td>0</td>\n",
       "      <td>NaN</td>\n",
       "      <td>6.78</td>\n",
       "      <td>0</td>\n",
       "      <td>HD</td>\n",
       "      <td>64</td>\n",
       "      <td>50</td>\n",
       "      <td>5000</td>\n",
       "      <td>Qualcomm Sanpdragon</td>\n",
       "    </tr>\n",
       "    <tr>\n",
       "      <th>2290</th>\n",
       "      <td>vivo</td>\n",
       "      <td>NaN</td>\n",
       "      <td>12</td>\n",
       "      <td>256</td>\n",
       "      <td>0</td>\n",
       "      <td>NaN</td>\n",
       "      <td>6.78</td>\n",
       "      <td>0</td>\n",
       "      <td>HD</td>\n",
       "      <td>50</td>\n",
       "      <td>50</td>\n",
       "      <td>4600</td>\n",
       "      <td>Mediatek</td>\n",
       "    </tr>\n",
       "    <tr>\n",
       "      <th>2291</th>\n",
       "      <td>vivo</td>\n",
       "      <td>NaN</td>\n",
       "      <td>8</td>\n",
       "      <td>128</td>\n",
       "      <td>0</td>\n",
       "      <td>NaN</td>\n",
       "      <td>6.78</td>\n",
       "      <td>0</td>\n",
       "      <td>HD</td>\n",
       "      <td>64</td>\n",
       "      <td>50</td>\n",
       "      <td>5000</td>\n",
       "      <td>Qualcomm Sanpdragon</td>\n",
       "    </tr>\n",
       "    <tr>\n",
       "      <th>2292</th>\n",
       "      <td>vivo</td>\n",
       "      <td>NaN</td>\n",
       "      <td>12</td>\n",
       "      <td>256</td>\n",
       "      <td>0</td>\n",
       "      <td>NaN</td>\n",
       "      <td>6.78</td>\n",
       "      <td>0</td>\n",
       "      <td>HD</td>\n",
       "      <td>50</td>\n",
       "      <td>50</td>\n",
       "      <td>4600</td>\n",
       "      <td>other</td>\n",
       "    </tr>\n",
       "    <tr>\n",
       "      <th>2293</th>\n",
       "      <td>vivo</td>\n",
       "      <td>NaN</td>\n",
       "      <td>4</td>\n",
       "      <td>64</td>\n",
       "      <td>0</td>\n",
       "      <td>NaN</td>\n",
       "      <td>6.51</td>\n",
       "      <td>0</td>\n",
       "      <td>HD</td>\n",
       "      <td>8</td>\n",
       "      <td>5</td>\n",
       "      <td>5000</td>\n",
       "      <td>Mediatek</td>\n",
       "    </tr>\n",
       "    <tr>\n",
       "      <th>2294</th>\n",
       "      <td>vivo</td>\n",
       "      <td>NaN</td>\n",
       "      <td>8</td>\n",
       "      <td>128</td>\n",
       "      <td>0</td>\n",
       "      <td>NaN</td>\n",
       "      <td>6.78</td>\n",
       "      <td>0</td>\n",
       "      <td>HD</td>\n",
       "      <td>50</td>\n",
       "      <td>50</td>\n",
       "      <td>4600</td>\n",
       "      <td>Mediatek</td>\n",
       "    </tr>\n",
       "    <tr>\n",
       "      <th>2296</th>\n",
       "      <td>vivo</td>\n",
       "      <td>NaN</td>\n",
       "      <td>8</td>\n",
       "      <td>128</td>\n",
       "      <td>0</td>\n",
       "      <td>NaN</td>\n",
       "      <td>6.67</td>\n",
       "      <td>0</td>\n",
       "      <td>HD</td>\n",
       "      <td>64</td>\n",
       "      <td>16</td>\n",
       "      <td>4800</td>\n",
       "      <td>other</td>\n",
       "    </tr>\n",
       "    <tr>\n",
       "      <th>2297</th>\n",
       "      <td>vivo</td>\n",
       "      <td>NaN</td>\n",
       "      <td>4</td>\n",
       "      <td>64</td>\n",
       "      <td>1</td>\n",
       "      <td>1</td>\n",
       "      <td>6.51</td>\n",
       "      <td>0</td>\n",
       "      <td>HD</td>\n",
       "      <td>13</td>\n",
       "      <td>5</td>\n",
       "      <td>5000</td>\n",
       "      <td>Mediatek</td>\n",
       "    </tr>\n",
       "    <tr>\n",
       "      <th>2298</th>\n",
       "      <td>vivo</td>\n",
       "      <td>NaN</td>\n",
       "      <td>4</td>\n",
       "      <td>128</td>\n",
       "      <td>1</td>\n",
       "      <td>1</td>\n",
       "      <td>6.51</td>\n",
       "      <td>0</td>\n",
       "      <td>HD</td>\n",
       "      <td>13</td>\n",
       "      <td>5</td>\n",
       "      <td>5000</td>\n",
       "      <td>Mediatek</td>\n",
       "    </tr>\n",
       "    <tr>\n",
       "      <th>2302</th>\n",
       "      <td>vivo</td>\n",
       "      <td>NaN</td>\n",
       "      <td>3</td>\n",
       "      <td>64</td>\n",
       "      <td>1</td>\n",
       "      <td>1</td>\n",
       "      <td>6.51</td>\n",
       "      <td>0</td>\n",
       "      <td>HD</td>\n",
       "      <td>13</td>\n",
       "      <td>5</td>\n",
       "      <td>5000</td>\n",
       "      <td>Mediatek</td>\n",
       "    </tr>\n",
       "    <tr>\n",
       "      <th>2304</th>\n",
       "      <td>vivo</td>\n",
       "      <td>NaN</td>\n",
       "      <td>4</td>\n",
       "      <td>128</td>\n",
       "      <td>1</td>\n",
       "      <td>1</td>\n",
       "      <td>6.56</td>\n",
       "      <td>0</td>\n",
       "      <td>HD</td>\n",
       "      <td>50</td>\n",
       "      <td>8</td>\n",
       "      <td>5000</td>\n",
       "      <td>Mediatek</td>\n",
       "    </tr>\n",
       "    <tr>\n",
       "      <th>2305</th>\n",
       "      <td>vivo</td>\n",
       "      <td>NaN</td>\n",
       "      <td>8</td>\n",
       "      <td>128</td>\n",
       "      <td>0</td>\n",
       "      <td>NaN</td>\n",
       "      <td>6.78</td>\n",
       "      <td>0</td>\n",
       "      <td>HD</td>\n",
       "      <td>50</td>\n",
       "      <td>50</td>\n",
       "      <td>4600</td>\n",
       "      <td>other</td>\n",
       "    </tr>\n",
       "    <tr>\n",
       "      <th>2306</th>\n",
       "      <td>vivo</td>\n",
       "      <td>NaN</td>\n",
       "      <td>4</td>\n",
       "      <td>64</td>\n",
       "      <td>0</td>\n",
       "      <td>NaN</td>\n",
       "      <td>6.51</td>\n",
       "      <td>0</td>\n",
       "      <td>None</td>\n",
       "      <td>13</td>\n",
       "      <td>NaN</td>\n",
       "      <td>5000</td>\n",
       "      <td>other</td>\n",
       "    </tr>\n",
       "    <tr>\n",
       "      <th>2307</th>\n",
       "      <td>vivo</td>\n",
       "      <td>NaN</td>\n",
       "      <td>8</td>\n",
       "      <td>256</td>\n",
       "      <td>0</td>\n",
       "      <td>NaN</td>\n",
       "      <td>6.78</td>\n",
       "      <td>0</td>\n",
       "      <td>HD</td>\n",
       "      <td>50</td>\n",
       "      <td>50</td>\n",
       "      <td>4600</td>\n",
       "      <td>Mediatek</td>\n",
       "    </tr>\n",
       "    <tr>\n",
       "      <th>2310</th>\n",
       "      <td>vivo</td>\n",
       "      <td>NaN</td>\n",
       "      <td>8</td>\n",
       "      <td>128</td>\n",
       "      <td>0</td>\n",
       "      <td>NaN</td>\n",
       "      <td>6.58</td>\n",
       "      <td>0</td>\n",
       "      <td>HD</td>\n",
       "      <td>50</td>\n",
       "      <td>16</td>\n",
       "      <td>5000</td>\n",
       "      <td>Mediatek</td>\n",
       "    </tr>\n",
       "    <tr>\n",
       "      <th>2311</th>\n",
       "      <td>vivo</td>\n",
       "      <td>NaN</td>\n",
       "      <td>4</td>\n",
       "      <td>64</td>\n",
       "      <td>1</td>\n",
       "      <td>1</td>\n",
       "      <td>6.56</td>\n",
       "      <td>0</td>\n",
       "      <td>HD</td>\n",
       "      <td>50</td>\n",
       "      <td>8</td>\n",
       "      <td>5000</td>\n",
       "      <td>Mediatek</td>\n",
       "    </tr>\n",
       "    <tr>\n",
       "      <th>2395</th>\n",
       "      <td>vivo</td>\n",
       "      <td>NaN</td>\n",
       "      <td>3</td>\n",
       "      <td>64</td>\n",
       "      <td>0</td>\n",
       "      <td>NaN</td>\n",
       "      <td>6.51</td>\n",
       "      <td>0</td>\n",
       "      <td>None</td>\n",
       "      <td>13</td>\n",
       "      <td>NaN</td>\n",
       "      <td>5000</td>\n",
       "      <td>other</td>\n",
       "    </tr>\n",
       "    <tr>\n",
       "      <th>2405</th>\n",
       "      <td>vivo</td>\n",
       "      <td>NaN</td>\n",
       "      <td>4</td>\n",
       "      <td>128</td>\n",
       "      <td>1</td>\n",
       "      <td>256</td>\n",
       "      <td>6.47</td>\n",
       "      <td>0</td>\n",
       "      <td>HD</td>\n",
       "      <td>13</td>\n",
       "      <td>8</td>\n",
       "      <td>5000</td>\n",
       "      <td>Mediatek</td>\n",
       "    </tr>\n",
       "    <tr>\n",
       "      <th>2576</th>\n",
       "      <td>vivo</td>\n",
       "      <td>NaN</td>\n",
       "      <td>4</td>\n",
       "      <td>64</td>\n",
       "      <td>1</td>\n",
       "      <td>256</td>\n",
       "      <td>6.35</td>\n",
       "      <td>0</td>\n",
       "      <td>HD</td>\n",
       "      <td>13</td>\n",
       "      <td>16</td>\n",
       "      <td>5000</td>\n",
       "      <td>Mediatek</td>\n",
       "    </tr>\n",
       "    <tr>\n",
       "      <th>2578</th>\n",
       "      <td>vivo</td>\n",
       "      <td>NaN</td>\n",
       "      <td>4</td>\n",
       "      <td>64</td>\n",
       "      <td>1</td>\n",
       "      <td>256</td>\n",
       "      <td>6.53</td>\n",
       "      <td>0</td>\n",
       "      <td>HD</td>\n",
       "      <td>16</td>\n",
       "      <td>32</td>\n",
       "      <td>5000</td>\n",
       "      <td>Qualcomm Sanpdragon</td>\n",
       "    </tr>\n",
       "  </tbody>\n",
       "</table>\n",
       "</div>"
      ],
      "text/plain": [
       "     company  Price Ram internal  is_expandable expandable_upto display_inch  \\\n",
       "2289    vivo    NaN   8      256              0             NaN         6.78   \n",
       "2290    vivo    NaN  12      256              0             NaN         6.78   \n",
       "2291    vivo    NaN   8      128              0             NaN         6.78   \n",
       "2292    vivo    NaN  12      256              0             NaN         6.78   \n",
       "2293    vivo    NaN   4       64              0             NaN         6.51   \n",
       "2294    vivo    NaN   8      128              0             NaN         6.78   \n",
       "2296    vivo    NaN   8      128              0             NaN         6.67   \n",
       "2297    vivo    NaN   4       64              1               1         6.51   \n",
       "2298    vivo    NaN   4      128              1               1         6.51   \n",
       "2302    vivo    NaN   3       64              1               1         6.51   \n",
       "2304    vivo    NaN   4      128              1               1         6.56   \n",
       "2305    vivo    NaN   8      128              0             NaN         6.78   \n",
       "2306    vivo    NaN   4       64              0             NaN         6.51   \n",
       "2307    vivo    NaN   8      256              0             NaN         6.78   \n",
       "2310    vivo    NaN   8      128              0             NaN         6.58   \n",
       "2311    vivo    NaN   4       64              1               1         6.56   \n",
       "2395    vivo    NaN   3       64              0             NaN         6.51   \n",
       "2405    vivo    NaN   4      128              1             256         6.47   \n",
       "2576    vivo    NaN   4       64              1             256         6.35   \n",
       "2578    vivo    NaN   4       64              1             256         6.53   \n",
       "\n",
       "      is_retina_display display_type rear_camera front_camera Battery  \\\n",
       "2289                  0           HD          64           50    5000   \n",
       "2290                  0           HD          50           50    4600   \n",
       "2291                  0           HD          64           50    5000   \n",
       "2292                  0           HD          50           50    4600   \n",
       "2293                  0           HD           8            5    5000   \n",
       "2294                  0           HD          50           50    4600   \n",
       "2296                  0           HD          64           16    4800   \n",
       "2297                  0           HD          13            5    5000   \n",
       "2298                  0           HD          13            5    5000   \n",
       "2302                  0           HD          13            5    5000   \n",
       "2304                  0           HD          50            8    5000   \n",
       "2305                  0           HD          50           50    4600   \n",
       "2306                  0         None          13          NaN    5000   \n",
       "2307                  0           HD          50           50    4600   \n",
       "2310                  0           HD          50           16    5000   \n",
       "2311                  0           HD          50            8    5000   \n",
       "2395                  0         None          13          NaN    5000   \n",
       "2405                  0           HD          13            8    5000   \n",
       "2576                  0           HD          13           16    5000   \n",
       "2578                  0           HD          16           32    5000   \n",
       "\n",
       "           Processor_type  \n",
       "2289  Qualcomm Sanpdragon  \n",
       "2290             Mediatek  \n",
       "2291  Qualcomm Sanpdragon  \n",
       "2292                other  \n",
       "2293             Mediatek  \n",
       "2294             Mediatek  \n",
       "2296                other  \n",
       "2297             Mediatek  \n",
       "2298             Mediatek  \n",
       "2302             Mediatek  \n",
       "2304             Mediatek  \n",
       "2305                other  \n",
       "2306                other  \n",
       "2307             Mediatek  \n",
       "2310             Mediatek  \n",
       "2311             Mediatek  \n",
       "2395                other  \n",
       "2405             Mediatek  \n",
       "2576             Mediatek  \n",
       "2578  Qualcomm Sanpdragon  "
      ]
     },
     "execution_count": 315,
     "metadata": {},
     "output_type": "execute_result"
    }
   ],
   "source": [
    "df[df['Price'].isnull()]"
   ]
  },
  {
   "cell_type": "code",
   "execution_count": 323,
   "metadata": {},
   "outputs": [],
   "source": [
    "x = df[df['company'] == 'vivo']['Price'].median()"
   ]
  },
  {
   "cell_type": "code",
   "execution_count": 325,
   "metadata": {},
   "outputs": [],
   "source": [
    "df['Price'].fillna(x,inplace=True)"
   ]
  },
  {
   "cell_type": "code",
   "execution_count": 333,
   "metadata": {},
   "outputs": [],
   "source": [
    "df['Ram'].fillna(4,inplace=True)"
   ]
  },
  {
   "cell_type": "code",
   "execution_count": 340,
   "metadata": {},
   "outputs": [],
   "source": [
    "df['display_type'].fillna(df['display_type'].mode()[0],inplace=True)"
   ]
  },
  {
   "cell_type": "code",
   "execution_count": 344,
   "metadata": {},
   "outputs": [
    {
     "data": {
      "text/html": [
       "<div>\n",
       "<style scoped>\n",
       "    .dataframe tbody tr th:only-of-type {\n",
       "        vertical-align: middle;\n",
       "    }\n",
       "\n",
       "    .dataframe tbody tr th {\n",
       "        vertical-align: top;\n",
       "    }\n",
       "\n",
       "    .dataframe thead th {\n",
       "        text-align: right;\n",
       "    }\n",
       "</style>\n",
       "<table border=\"1\" class=\"dataframe\">\n",
       "  <thead>\n",
       "    <tr style=\"text-align: right;\">\n",
       "      <th></th>\n",
       "      <th>company</th>\n",
       "      <th>Price</th>\n",
       "      <th>Ram</th>\n",
       "      <th>internal</th>\n",
       "      <th>is_expandable</th>\n",
       "      <th>expandable_upto</th>\n",
       "      <th>display_inch</th>\n",
       "      <th>is_retina_display</th>\n",
       "      <th>display_type</th>\n",
       "      <th>rear_camera</th>\n",
       "      <th>front_camera</th>\n",
       "      <th>Battery</th>\n",
       "      <th>Processor_type</th>\n",
       "    </tr>\n",
       "  </thead>\n",
       "  <tbody>\n",
       "    <tr>\n",
       "      <th>0</th>\n",
       "      <td>apple</td>\n",
       "      <td>57999.0</td>\n",
       "      <td>4</td>\n",
       "      <td>128</td>\n",
       "      <td>0</td>\n",
       "      <td>NaN</td>\n",
       "      <td>6.1</td>\n",
       "      <td>1</td>\n",
       "      <td>XDR</td>\n",
       "      <td>12</td>\n",
       "      <td>12</td>\n",
       "      <td>None</td>\n",
       "      <td>Bionic Chip</td>\n",
       "    </tr>\n",
       "    <tr>\n",
       "      <th>1</th>\n",
       "      <td>apple</td>\n",
       "      <td>58999.0</td>\n",
       "      <td>4</td>\n",
       "      <td>128</td>\n",
       "      <td>0</td>\n",
       "      <td>NaN</td>\n",
       "      <td>6.1</td>\n",
       "      <td>1</td>\n",
       "      <td>XDR</td>\n",
       "      <td>12</td>\n",
       "      <td>12</td>\n",
       "      <td>None</td>\n",
       "      <td>Bionic Chip</td>\n",
       "    </tr>\n",
       "    <tr>\n",
       "      <th>4</th>\n",
       "      <td>apple</td>\n",
       "      <td>65999.0</td>\n",
       "      <td>4</td>\n",
       "      <td>128</td>\n",
       "      <td>0</td>\n",
       "      <td>NaN</td>\n",
       "      <td>6.7</td>\n",
       "      <td>1</td>\n",
       "      <td>XDR</td>\n",
       "      <td>12</td>\n",
       "      <td>12</td>\n",
       "      <td>None</td>\n",
       "      <td>Bionic Chip</td>\n",
       "    </tr>\n",
       "    <tr>\n",
       "      <th>6</th>\n",
       "      <td>apple</td>\n",
       "      <td>64999.0</td>\n",
       "      <td>4</td>\n",
       "      <td>128</td>\n",
       "      <td>0</td>\n",
       "      <td>NaN</td>\n",
       "      <td>6.7</td>\n",
       "      <td>1</td>\n",
       "      <td>XDR</td>\n",
       "      <td>12</td>\n",
       "      <td>12</td>\n",
       "      <td>None</td>\n",
       "      <td>Bionic Chip</td>\n",
       "    </tr>\n",
       "    <tr>\n",
       "      <th>7</th>\n",
       "      <td>apple</td>\n",
       "      <td>77900.0</td>\n",
       "      <td>4</td>\n",
       "      <td>128</td>\n",
       "      <td>0</td>\n",
       "      <td>NaN</td>\n",
       "      <td>6.1</td>\n",
       "      <td>1</td>\n",
       "      <td>XDR</td>\n",
       "      <td>48</td>\n",
       "      <td>12</td>\n",
       "      <td>None</td>\n",
       "      <td>Bionic Chip</td>\n",
       "    </tr>\n",
       "    <tr>\n",
       "      <th>...</th>\n",
       "      <td>...</td>\n",
       "      <td>...</td>\n",
       "      <td>...</td>\n",
       "      <td>...</td>\n",
       "      <td>...</td>\n",
       "      <td>...</td>\n",
       "      <td>...</td>\n",
       "      <td>...</td>\n",
       "      <td>...</td>\n",
       "      <td>...</td>\n",
       "      <td>...</td>\n",
       "      <td>...</td>\n",
       "      <td>...</td>\n",
       "    </tr>\n",
       "    <tr>\n",
       "      <th>459</th>\n",
       "      <td>apple</td>\n",
       "      <td>13999.0</td>\n",
       "      <td>4</td>\n",
       "      <td>8</td>\n",
       "      <td>0</td>\n",
       "      <td>NaN</td>\n",
       "      <td>3.5</td>\n",
       "      <td>0</td>\n",
       "      <td>HD</td>\n",
       "      <td>5</td>\n",
       "      <td>0.3</td>\n",
       "      <td>None</td>\n",
       "      <td>other</td>\n",
       "    </tr>\n",
       "    <tr>\n",
       "      <th>460</th>\n",
       "      <td>apple</td>\n",
       "      <td>80500.0</td>\n",
       "      <td>4</td>\n",
       "      <td>128</td>\n",
       "      <td>0</td>\n",
       "      <td>NaN</td>\n",
       "      <td>5.5</td>\n",
       "      <td>1</td>\n",
       "      <td>HD</td>\n",
       "      <td>8</td>\n",
       "      <td>1.2</td>\n",
       "      <td>None</td>\n",
       "      <td>Bionic Chip</td>\n",
       "    </tr>\n",
       "    <tr>\n",
       "      <th>461</th>\n",
       "      <td>apple</td>\n",
       "      <td>71500.0</td>\n",
       "      <td>4</td>\n",
       "      <td>64</td>\n",
       "      <td>0</td>\n",
       "      <td>NaN</td>\n",
       "      <td>5.5</td>\n",
       "      <td>1</td>\n",
       "      <td>HD</td>\n",
       "      <td>8</td>\n",
       "      <td>1.2</td>\n",
       "      <td>None</td>\n",
       "      <td>Bionic Chip</td>\n",
       "    </tr>\n",
       "    <tr>\n",
       "      <th>462</th>\n",
       "      <td>apple</td>\n",
       "      <td>72000.0</td>\n",
       "      <td>4</td>\n",
       "      <td>16</td>\n",
       "      <td>0</td>\n",
       "      <td>NaN</td>\n",
       "      <td>5.5</td>\n",
       "      <td>1</td>\n",
       "      <td>HD</td>\n",
       "      <td>12</td>\n",
       "      <td>5</td>\n",
       "      <td>None</td>\n",
       "      <td>other</td>\n",
       "    </tr>\n",
       "    <tr>\n",
       "      <th>463</th>\n",
       "      <td>apple</td>\n",
       "      <td>80500.0</td>\n",
       "      <td>4</td>\n",
       "      <td>128</td>\n",
       "      <td>0</td>\n",
       "      <td>NaN</td>\n",
       "      <td>5.5</td>\n",
       "      <td>1</td>\n",
       "      <td>HD</td>\n",
       "      <td>8</td>\n",
       "      <td>1.2</td>\n",
       "      <td>None</td>\n",
       "      <td>Bionic Chip</td>\n",
       "    </tr>\n",
       "  </tbody>\n",
       "</table>\n",
       "<p>151 rows × 13 columns</p>\n",
       "</div>"
      ],
      "text/plain": [
       "    company    Price Ram internal  is_expandable expandable_upto display_inch  \\\n",
       "0     apple  57999.0   4      128              0             NaN          6.1   \n",
       "1     apple  58999.0   4      128              0             NaN          6.1   \n",
       "4     apple  65999.0   4      128              0             NaN          6.7   \n",
       "6     apple  64999.0   4      128              0             NaN          6.7   \n",
       "7     apple  77900.0   4      128              0             NaN          6.1   \n",
       "..      ...      ...  ..      ...            ...             ...          ...   \n",
       "459   apple  13999.0   4        8              0             NaN          3.5   \n",
       "460   apple  80500.0   4      128              0             NaN          5.5   \n",
       "461   apple  71500.0   4       64              0             NaN          5.5   \n",
       "462   apple  72000.0   4       16              0             NaN          5.5   \n",
       "463   apple  80500.0   4      128              0             NaN          5.5   \n",
       "\n",
       "     is_retina_display display_type rear_camera front_camera Battery  \\\n",
       "0                    1          XDR          12           12    None   \n",
       "1                    1          XDR          12           12    None   \n",
       "4                    1          XDR          12           12    None   \n",
       "6                    1          XDR          12           12    None   \n",
       "7                    1          XDR          48           12    None   \n",
       "..                 ...          ...         ...          ...     ...   \n",
       "459                  0           HD           5          0.3    None   \n",
       "460                  1           HD           8          1.2    None   \n",
       "461                  1           HD           8          1.2    None   \n",
       "462                  1           HD          12            5    None   \n",
       "463                  1           HD           8          1.2    None   \n",
       "\n",
       "    Processor_type  \n",
       "0      Bionic Chip  \n",
       "1      Bionic Chip  \n",
       "4      Bionic Chip  \n",
       "6      Bionic Chip  \n",
       "7      Bionic Chip  \n",
       "..             ...  \n",
       "459          other  \n",
       "460    Bionic Chip  \n",
       "461    Bionic Chip  \n",
       "462          other  \n",
       "463    Bionic Chip  \n",
       "\n",
       "[151 rows x 13 columns]"
      ]
     },
     "execution_count": 344,
     "metadata": {},
     "output_type": "execute_result"
    }
   ],
   "source": [
    "df[df['Battery'].isnull()]"
   ]
  },
  {
   "cell_type": "code",
   "execution_count": 345,
   "metadata": {},
   "outputs": [],
   "source": [
    "df['Battery'].fillna(3000,inplace=True)"
   ]
  },
  {
   "cell_type": "code",
   "execution_count": 352,
   "metadata": {},
   "outputs": [],
   "source": [
    "df['front_camera'].fillna(df['front_camera'].mode()[0],inplace=True)"
   ]
  },
  {
   "cell_type": "code",
   "execution_count": 359,
   "metadata": {},
   "outputs": [],
   "source": [
    "df.drop(index=1040,inplace=True)"
   ]
  },
  {
   "cell_type": "code",
   "execution_count": 366,
   "metadata": {},
   "outputs": [],
   "source": [
    "def update(value):\n",
    "    if value == '1':\n",
    "        return 1024\n",
    "    elif value == '2':\n",
    "        return 2048\n",
    "    else:\n",
    "        return value"
   ]
  },
  {
   "cell_type": "code",
   "execution_count": 373,
   "metadata": {},
   "outputs": [],
   "source": [
    "df['expandable_upto'] = df['expandable_upto'].apply(update)"
   ]
  },
  {
   "cell_type": "code",
   "execution_count": 379,
   "metadata": {},
   "outputs": [],
   "source": [
    "df['expandable_upto'].fillna(df['expandable_upto'].mode()[0],inplace=True)"
   ]
  },
  {
   "cell_type": "code",
   "execution_count": 380,
   "metadata": {},
   "outputs": [
    {
     "data": {
      "text/plain": [
       "company              0\n",
       "Price                0\n",
       "Ram                  0\n",
       "internal             0\n",
       "is_expandable        0\n",
       "expandable_upto      0\n",
       "display_inch         0\n",
       "is_retina_display    0\n",
       "display_type         0\n",
       "rear_camera          0\n",
       "front_camera         0\n",
       "Battery              0\n",
       "Processor_type       0\n",
       "dtype: int64"
      ]
     },
     "execution_count": 380,
     "metadata": {},
     "output_type": "execute_result"
    }
   ],
   "source": [
    "df.isna().sum()"
   ]
  },
  {
   "cell_type": "code",
   "execution_count": 381,
   "metadata": {},
   "outputs": [],
   "source": [
    "df.to_csv(\"cleaned.csv\")"
   ]
  }
 ],
 "metadata": {
  "kernelspec": {
   "display_name": "Python 3",
   "language": "python",
   "name": "python3"
  },
  "language_info": {
   "codemirror_mode": {
    "name": "ipython",
    "version": 3
   },
   "file_extension": ".py",
   "mimetype": "text/x-python",
   "name": "python",
   "nbconvert_exporter": "python",
   "pygments_lexer": "ipython3",
   "version": "3.12.1"
  }
 },
 "nbformat": 4,
 "nbformat_minor": 2
}
